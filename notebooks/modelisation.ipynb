{
 "cells": [
  {
   "cell_type": "code",
   "execution_count": 1,
   "metadata": {},
   "outputs": [],
   "source": [
    "# --- Initialisation ---\n",
    "import os\n",
    "import sys\n",
    "import pandas as pd\n",
    "import numpy as np\n",
    "import joblib\n",
    "\n",
    "from sklearn.linear_model import LogisticRegression\n",
    "from sklearn.metrics import classification_report, confusion_matrix, accuracy_score, precision_recall_curve\n",
    "from sklearn.model_selection import train_test_split, GridSearchCV, RandomizedSearchCV\n",
    "\n",
    "from sklearn.metrics import recall_score, make_scorer, ConfusionMatrixDisplay\n",
    "\n",
    "\n",
    "# --- Accès au dossier contenant utils.py ---\n",
    "sys.path.append(os.path.abspath(\"..\"))\n",
    "from utils import execute_model_and_save_score, execute_model\n",
    "\n",
    "# --- Chargement des données AU CHOIX ---\n",
    "# DF_PATH = \"../data/cardio_optimized.csv\"\n",
    "# DF_PATH = \"../data/cardio_light.csv\"\n",
    "DF_PATH = \"../data/balanced.csv\"\n",
    "\n",
    "df = pd.read_csv(DF_PATH, sep=\";\")\n",
    "\n",
    "# --- Séparation des features et de la cible ---\n",
    "X = df.drop(columns=[\"cardio\"])\n",
    "y = df[\"cardio\"]\n",
    "\n",
    "\n",
    "# 1. Créer un scorer personnalisé pour le recall de la classe 1\n",
    "recall_scorer = make_scorer(\n",
    "    recall_score, \n",
    "    pos_label=1  # Spécifie que la classe 1 est la classe positive\n",
    ")\n",
    "\n",
    "model = LogisticRegression()\n"
   ]
  },
  {
   "cell_type": "markdown",
   "metadata": {},
   "source": [
    "#### `LogisticRegression` avec `GridSearchCV`\n",
    "Recherche et stockage des meilleurs hyperparamètres dans `best_model_grid`"
   ]
  },
  {
   "cell_type": "code",
   "execution_count": 2,
   "metadata": {},
   "outputs": [
    {
     "name": "stdout",
     "output_type": "stream",
     "text": [
      "🧮 Poids manuel calculé : {0: 1, 1: 1.04}\n"
     ]
    }
   ],
   "source": [
    "from collections import Counter\n",
    "\n",
    "# Calcul du poids pour les classes\n",
    "counter = Counter(y)\n",
    "n0, n1 = counter[0], counter[1]\n",
    "manual_weight = {0: 1, 1: round(n0 / n1, 2)}\n",
    "print(\"🧮 Poids manuel calculé :\", manual_weight)\n"
   ]
  },
  {
   "cell_type": "code",
   "execution_count": null,
   "metadata": {},
   "outputs": [
    {
     "name": "stderr",
     "output_type": "stream",
     "text": [
      "c:\\Users\\coule\\Documents\\projets\\cardio-vasc-risks\\.venv\\Lib\\site-packages\\sklearn\\linear_model\\_sag.py:348: ConvergenceWarning: The max_iter was reached which means the coef_ did not converge\n",
      "  warnings.warn(\n",
      "c:\\Users\\coule\\Documents\\projets\\cardio-vasc-risks\\.venv\\Lib\\site-packages\\sklearn\\linear_model\\_sag.py:348: ConvergenceWarning: The max_iter was reached which means the coef_ did not converge\n",
      "  warnings.warn(\n",
      "c:\\Users\\coule\\Documents\\projets\\cardio-vasc-risks\\.venv\\Lib\\site-packages\\sklearn\\linear_model\\_sag.py:348: ConvergenceWarning: The max_iter was reached which means the coef_ did not converge\n",
      "  warnings.warn(\n",
      "c:\\Users\\coule\\Documents\\projets\\cardio-vasc-risks\\.venv\\Lib\\site-packages\\sklearn\\linear_model\\_sag.py:348: ConvergenceWarning: The max_iter was reached which means the coef_ did not converge\n",
      "  warnings.warn(\n",
      "c:\\Users\\coule\\Documents\\projets\\cardio-vasc-risks\\.venv\\Lib\\site-packages\\sklearn\\linear_model\\_sag.py:348: ConvergenceWarning: The max_iter was reached which means the coef_ did not converge\n",
      "  warnings.warn(\n",
      "c:\\Users\\coule\\Documents\\projets\\cardio-vasc-risks\\.venv\\Lib\\site-packages\\sklearn\\linear_model\\_sag.py:348: ConvergenceWarning: The max_iter was reached which means the coef_ did not converge\n",
      "  warnings.warn(\n",
      "c:\\Users\\coule\\Documents\\projets\\cardio-vasc-risks\\.venv\\Lib\\site-packages\\sklearn\\linear_model\\_sag.py:348: ConvergenceWarning: The max_iter was reached which means the coef_ did not converge\n",
      "  warnings.warn(\n",
      "c:\\Users\\coule\\Documents\\projets\\cardio-vasc-risks\\.venv\\Lib\\site-packages\\sklearn\\linear_model\\_sag.py:348: ConvergenceWarning: The max_iter was reached which means the coef_ did not converge\n",
      "  warnings.warn(\n",
      "c:\\Users\\coule\\Documents\\projets\\cardio-vasc-risks\\.venv\\Lib\\site-packages\\sklearn\\linear_model\\_sag.py:348: ConvergenceWarning: The max_iter was reached which means the coef_ did not converge\n",
      "  warnings.warn(\n",
      "c:\\Users\\coule\\Documents\\projets\\cardio-vasc-risks\\.venv\\Lib\\site-packages\\sklearn\\linear_model\\_sag.py:348: ConvergenceWarning: The max_iter was reached which means the coef_ did not converge\n",
      "  warnings.warn(\n",
      "c:\\Users\\coule\\Documents\\projets\\cardio-vasc-risks\\.venv\\Lib\\site-packages\\sklearn\\linear_model\\_sag.py:348: ConvergenceWarning: The max_iter was reached which means the coef_ did not converge\n",
      "  warnings.warn(\n",
      "c:\\Users\\coule\\Documents\\projets\\cardio-vasc-risks\\.venv\\Lib\\site-packages\\sklearn\\linear_model\\_sag.py:348: ConvergenceWarning: The max_iter was reached which means the coef_ did not converge\n",
      "  warnings.warn(\n",
      "c:\\Users\\coule\\Documents\\projets\\cardio-vasc-risks\\.venv\\Lib\\site-packages\\sklearn\\linear_model\\_sag.py:348: ConvergenceWarning: The max_iter was reached which means the coef_ did not converge\n",
      "  warnings.warn(\n",
      "c:\\Users\\coule\\Documents\\projets\\cardio-vasc-risks\\.venv\\Lib\\site-packages\\sklearn\\linear_model\\_sag.py:348: ConvergenceWarning: The max_iter was reached which means the coef_ did not converge\n",
      "  warnings.warn(\n",
      "c:\\Users\\coule\\Documents\\projets\\cardio-vasc-risks\\.venv\\Lib\\site-packages\\sklearn\\linear_model\\_sag.py:348: ConvergenceWarning: The max_iter was reached which means the coef_ did not converge\n",
      "  warnings.warn(\n",
      "c:\\Users\\coule\\Documents\\projets\\cardio-vasc-risks\\.venv\\Lib\\site-packages\\sklearn\\linear_model\\_sag.py:348: ConvergenceWarning: The max_iter was reached which means the coef_ did not converge\n",
      "  warnings.warn(\n",
      "c:\\Users\\coule\\Documents\\projets\\cardio-vasc-risks\\.venv\\Lib\\site-packages\\sklearn\\linear_model\\_sag.py:348: ConvergenceWarning: The max_iter was reached which means the coef_ did not converge\n",
      "  warnings.warn(\n",
      "c:\\Users\\coule\\Documents\\projets\\cardio-vasc-risks\\.venv\\Lib\\site-packages\\sklearn\\linear_model\\_sag.py:348: ConvergenceWarning: The max_iter was reached which means the coef_ did not converge\n",
      "  warnings.warn(\n",
      "c:\\Users\\coule\\Documents\\projets\\cardio-vasc-risks\\.venv\\Lib\\site-packages\\sklearn\\linear_model\\_sag.py:348: ConvergenceWarning: The max_iter was reached which means the coef_ did not converge\n",
      "  warnings.warn(\n",
      "c:\\Users\\coule\\Documents\\projets\\cardio-vasc-risks\\.venv\\Lib\\site-packages\\sklearn\\linear_model\\_sag.py:348: ConvergenceWarning: The max_iter was reached which means the coef_ did not converge\n",
      "  warnings.warn(\n",
      "c:\\Users\\coule\\Documents\\projets\\cardio-vasc-risks\\.venv\\Lib\\site-packages\\sklearn\\linear_model\\_sag.py:348: ConvergenceWarning: The max_iter was reached which means the coef_ did not converge\n",
      "  warnings.warn(\n",
      "c:\\Users\\coule\\Documents\\projets\\cardio-vasc-risks\\.venv\\Lib\\site-packages\\sklearn\\linear_model\\_sag.py:348: ConvergenceWarning: The max_iter was reached which means the coef_ did not converge\n",
      "  warnings.warn(\n",
      "c:\\Users\\coule\\Documents\\projets\\cardio-vasc-risks\\.venv\\Lib\\site-packages\\sklearn\\linear_model\\_sag.py:348: ConvergenceWarning: The max_iter was reached which means the coef_ did not converge\n",
      "  warnings.warn(\n",
      "c:\\Users\\coule\\Documents\\projets\\cardio-vasc-risks\\.venv\\Lib\\site-packages\\sklearn\\linear_model\\_sag.py:348: ConvergenceWarning: The max_iter was reached which means the coef_ did not converge\n",
      "  warnings.warn(\n",
      "c:\\Users\\coule\\Documents\\projets\\cardio-vasc-risks\\.venv\\Lib\\site-packages\\sklearn\\linear_model\\_sag.py:348: ConvergenceWarning: The max_iter was reached which means the coef_ did not converge\n",
      "  warnings.warn(\n",
      "c:\\Users\\coule\\Documents\\projets\\cardio-vasc-risks\\.venv\\Lib\\site-packages\\sklearn\\linear_model\\_sag.py:348: ConvergenceWarning: The max_iter was reached which means the coef_ did not converge\n",
      "  warnings.warn(\n",
      "c:\\Users\\coule\\Documents\\projets\\cardio-vasc-risks\\.venv\\Lib\\site-packages\\sklearn\\linear_model\\_sag.py:348: ConvergenceWarning: The max_iter was reached which means the coef_ did not converge\n",
      "  warnings.warn(\n",
      "c:\\Users\\coule\\Documents\\projets\\cardio-vasc-risks\\.venv\\Lib\\site-packages\\sklearn\\linear_model\\_sag.py:348: ConvergenceWarning: The max_iter was reached which means the coef_ did not converge\n",
      "  warnings.warn(\n",
      "c:\\Users\\coule\\Documents\\projets\\cardio-vasc-risks\\.venv\\Lib\\site-packages\\sklearn\\linear_model\\_sag.py:348: ConvergenceWarning: The max_iter was reached which means the coef_ did not converge\n",
      "  warnings.warn(\n",
      "c:\\Users\\coule\\Documents\\projets\\cardio-vasc-risks\\.venv\\Lib\\site-packages\\sklearn\\linear_model\\_sag.py:348: ConvergenceWarning: The max_iter was reached which means the coef_ did not converge\n",
      "  warnings.warn(\n",
      "c:\\Users\\coule\\Documents\\projets\\cardio-vasc-risks\\.venv\\Lib\\site-packages\\sklearn\\linear_model\\_sag.py:348: ConvergenceWarning: The max_iter was reached which means the coef_ did not converge\n",
      "  warnings.warn(\n",
      "c:\\Users\\coule\\Documents\\projets\\cardio-vasc-risks\\.venv\\Lib\\site-packages\\sklearn\\linear_model\\_sag.py:348: ConvergenceWarning: The max_iter was reached which means the coef_ did not converge\n",
      "  warnings.warn(\n",
      "c:\\Users\\coule\\Documents\\projets\\cardio-vasc-risks\\.venv\\Lib\\site-packages\\sklearn\\linear_model\\_sag.py:348: ConvergenceWarning: The max_iter was reached which means the coef_ did not converge\n",
      "  warnings.warn(\n",
      "c:\\Users\\coule\\Documents\\projets\\cardio-vasc-risks\\.venv\\Lib\\site-packages\\sklearn\\linear_model\\_sag.py:348: ConvergenceWarning: The max_iter was reached which means the coef_ did not converge\n",
      "  warnings.warn(\n",
      "c:\\Users\\coule\\Documents\\projets\\cardio-vasc-risks\\.venv\\Lib\\site-packages\\sklearn\\linear_model\\_sag.py:348: ConvergenceWarning: The max_iter was reached which means the coef_ did not converge\n",
      "  warnings.warn(\n",
      "c:\\Users\\coule\\Documents\\projets\\cardio-vasc-risks\\.venv\\Lib\\site-packages\\sklearn\\linear_model\\_sag.py:348: ConvergenceWarning: The max_iter was reached which means the coef_ did not converge\n",
      "  warnings.warn(\n",
      "c:\\Users\\coule\\Documents\\projets\\cardio-vasc-risks\\.venv\\Lib\\site-packages\\sklearn\\linear_model\\_sag.py:348: ConvergenceWarning: The max_iter was reached which means the coef_ did not converge\n",
      "  warnings.warn(\n",
      "c:\\Users\\coule\\Documents\\projets\\cardio-vasc-risks\\.venv\\Lib\\site-packages\\sklearn\\linear_model\\_sag.py:348: ConvergenceWarning: The max_iter was reached which means the coef_ did not converge\n",
      "  warnings.warn(\n",
      "c:\\Users\\coule\\Documents\\projets\\cardio-vasc-risks\\.venv\\Lib\\site-packages\\sklearn\\linear_model\\_sag.py:348: ConvergenceWarning: The max_iter was reached which means the coef_ did not converge\n",
      "  warnings.warn(\n",
      "c:\\Users\\coule\\Documents\\projets\\cardio-vasc-risks\\.venv\\Lib\\site-packages\\sklearn\\linear_model\\_sag.py:348: ConvergenceWarning: The max_iter was reached which means the coef_ did not converge\n",
      "  warnings.warn(\n",
      "c:\\Users\\coule\\Documents\\projets\\cardio-vasc-risks\\.venv\\Lib\\site-packages\\sklearn\\linear_model\\_sag.py:348: ConvergenceWarning: The max_iter was reached which means the coef_ did not converge\n",
      "  warnings.warn(\n",
      "c:\\Users\\coule\\Documents\\projets\\cardio-vasc-risks\\.venv\\Lib\\site-packages\\sklearn\\linear_model\\_sag.py:348: ConvergenceWarning: The max_iter was reached which means the coef_ did not converge\n",
      "  warnings.warn(\n",
      "c:\\Users\\coule\\Documents\\projets\\cardio-vasc-risks\\.venv\\Lib\\site-packages\\sklearn\\linear_model\\_sag.py:348: ConvergenceWarning: The max_iter was reached which means the coef_ did not converge\n",
      "  warnings.warn(\n",
      "c:\\Users\\coule\\Documents\\projets\\cardio-vasc-risks\\.venv\\Lib\\site-packages\\sklearn\\linear_model\\_sag.py:348: ConvergenceWarning: The max_iter was reached which means the coef_ did not converge\n",
      "  warnings.warn(\n",
      "c:\\Users\\coule\\Documents\\projets\\cardio-vasc-risks\\.venv\\Lib\\site-packages\\sklearn\\linear_model\\_sag.py:348: ConvergenceWarning: The max_iter was reached which means the coef_ did not converge\n",
      "  warnings.warn(\n",
      "c:\\Users\\coule\\Documents\\projets\\cardio-vasc-risks\\.venv\\Lib\\site-packages\\sklearn\\linear_model\\_sag.py:348: ConvergenceWarning: The max_iter was reached which means the coef_ did not converge\n",
      "  warnings.warn(\n",
      "c:\\Users\\coule\\Documents\\projets\\cardio-vasc-risks\\.venv\\Lib\\site-packages\\sklearn\\linear_model\\_sag.py:348: ConvergenceWarning: The max_iter was reached which means the coef_ did not converge\n",
      "  warnings.warn(\n",
      "c:\\Users\\coule\\Documents\\projets\\cardio-vasc-risks\\.venv\\Lib\\site-packages\\sklearn\\linear_model\\_sag.py:348: ConvergenceWarning: The max_iter was reached which means the coef_ did not converge\n",
      "  warnings.warn(\n",
      "c:\\Users\\coule\\Documents\\projets\\cardio-vasc-risks\\.venv\\Lib\\site-packages\\sklearn\\linear_model\\_sag.py:348: ConvergenceWarning: The max_iter was reached which means the coef_ did not converge\n",
      "  warnings.warn(\n",
      "c:\\Users\\coule\\Documents\\projets\\cardio-vasc-risks\\.venv\\Lib\\site-packages\\sklearn\\linear_model\\_sag.py:348: ConvergenceWarning: The max_iter was reached which means the coef_ did not converge\n",
      "  warnings.warn(\n",
      "c:\\Users\\coule\\Documents\\projets\\cardio-vasc-risks\\.venv\\Lib\\site-packages\\sklearn\\linear_model\\_sag.py:348: ConvergenceWarning: The max_iter was reached which means the coef_ did not converge\n",
      "  warnings.warn(\n",
      "c:\\Users\\coule\\Documents\\projets\\cardio-vasc-risks\\.venv\\Lib\\site-packages\\sklearn\\linear_model\\_sag.py:348: ConvergenceWarning: The max_iter was reached which means the coef_ did not converge\n",
      "  warnings.warn(\n",
      "c:\\Users\\coule\\Documents\\projets\\cardio-vasc-risks\\.venv\\Lib\\site-packages\\sklearn\\linear_model\\_sag.py:348: ConvergenceWarning: The max_iter was reached which means the coef_ did not converge\n",
      "  warnings.warn(\n",
      "c:\\Users\\coule\\Documents\\projets\\cardio-vasc-risks\\.venv\\Lib\\site-packages\\sklearn\\linear_model\\_sag.py:348: ConvergenceWarning: The max_iter was reached which means the coef_ did not converge\n",
      "  warnings.warn(\n",
      "c:\\Users\\coule\\Documents\\projets\\cardio-vasc-risks\\.venv\\Lib\\site-packages\\sklearn\\linear_model\\_sag.py:348: ConvergenceWarning: The max_iter was reached which means the coef_ did not converge\n",
      "  warnings.warn(\n",
      "c:\\Users\\coule\\Documents\\projets\\cardio-vasc-risks\\.venv\\Lib\\site-packages\\sklearn\\linear_model\\_sag.py:348: ConvergenceWarning: The max_iter was reached which means the coef_ did not converge\n",
      "  warnings.warn(\n",
      "c:\\Users\\coule\\Documents\\projets\\cardio-vasc-risks\\.venv\\Lib\\site-packages\\sklearn\\linear_model\\_sag.py:348: ConvergenceWarning: The max_iter was reached which means the coef_ did not converge\n",
      "  warnings.warn(\n",
      "c:\\Users\\coule\\Documents\\projets\\cardio-vasc-risks\\.venv\\Lib\\site-packages\\sklearn\\linear_model\\_sag.py:348: ConvergenceWarning: The max_iter was reached which means the coef_ did not converge\n",
      "  warnings.warn(\n",
      "c:\\Users\\coule\\Documents\\projets\\cardio-vasc-risks\\.venv\\Lib\\site-packages\\sklearn\\linear_model\\_sag.py:348: ConvergenceWarning: The max_iter was reached which means the coef_ did not converge\n",
      "  warnings.warn(\n",
      "c:\\Users\\coule\\Documents\\projets\\cardio-vasc-risks\\.venv\\Lib\\site-packages\\sklearn\\linear_model\\_sag.py:348: ConvergenceWarning: The max_iter was reached which means the coef_ did not converge\n",
      "  warnings.warn(\n"
     ]
    },
    {
     "name": "stdout",
     "output_type": "stream",
     "text": [
      "✅ Grid search terminée.\n",
      "Meilleurs estimateurs trouvés : LogisticRegression(C=50, class_weight={0: 1, 1: 1.04}, l1_ratio=0.5,\n",
      "                   max_iter=1000, penalty='elasticnet', solver='saga')\n",
      "Meilleurs hyperparamètres trouvés : {'C': 50, 'class_weight': {0: 1, 1: 1.04}, 'l1_ratio': 0.5, 'max_iter': 1000, 'penalty': 'elasticnet', 'solver': 'saga'}\n",
      "Meilleur score d'entraînement : 0.7613526570048309\n"
     ]
    },
    {
     "name": "stderr",
     "output_type": "stream",
     "text": [
      "c:\\Users\\coule\\Documents\\projets\\cardio-vasc-risks\\.venv\\Lib\\site-packages\\sklearn\\linear_model\\_sag.py:348: ConvergenceWarning: The max_iter was reached which means the coef_ did not converge\n",
      "  warnings.warn(\n"
     ]
    }
   ],
   "source": [
    "X_train, X_test, y_train, y_test = train_test_split(X, y, test_size=0.2, stratify=y, random_state=42)\n",
    "\n",
    "# param_grid = {\n",
    "#     'C': [50, 100, 150, 200],\n",
    "#     'penalty': ['l2', 'l1', 'elasticnet'],  # ou 'l1' si le solver le permet\n",
    "#     'solver': ['liblinear', 'lbfgs', 'saga'],\n",
    "#     'max_iter': [1000],\n",
    "#     'class_weight':  [\n",
    "#         None,\n",
    "#         'balanced',\n",
    "#         {0: 1, 1: 2},\n",
    "#         {0: 1, 1: 3}\n",
    "#     ]\n",
    "# }\n",
    "\n",
    "param_grid = [\n",
    "    {\n",
    "        'penalty': ['l2'],\n",
    "        'solver': ['liblinear'],\n",
    "        'C': [50, 100],\n",
    "        'class_weight': ['balanced', manual_weight],\n",
    "        'max_iter': [1000]\n",
    "    },\n",
    "    # {\n",
    "    #     'penalty': ['l1'],\n",
    "    #     'solver': ['liblinear'],\n",
    "    #     'C': [50, 100],\n",
    "    #     'class_weight': ['balanced', manual_weight],\n",
    "    #     'max_iter': [1000]\n",
    "    # },\n",
    "    {\n",
    "    'penalty': ['elasticnet'],\n",
    "    'solver': ['saga'],\n",
    "    'C': [50, 100],\n",
    "    'l1_ratio': [0.3, 0.5, 0.7],  # obligatoire pour elasticnet\n",
    "    'class_weight': ['balanced', manual_weight],\n",
    "    'max_iter': [1000]\n",
    "    }\n",
    "]\n",
    "\n",
    "\n",
    "grid_search = GridSearchCV(\n",
    "    model, \n",
    "    param_grid, \n",
    "    cv=5, \n",
    "    scoring=recall_scorer\n",
    ")\n",
    "\n",
    "# Ne refais pas le fit si déjà fait\n",
    "if \"best_model_grid\" not in globals():\n",
    "    grid_search.fit(X_train, y_train)\n",
    "    best_model_grid = grid_search.best_estimator_\n",
    "    print(\"✅ Grid search terminée.\")\n",
    "else:\n",
    "    print(\"✅ Modèle déjà entraîné : utilisation de best_model.\")\n",
    "\n",
    "# Sauvegarde\n",
    "joblib.dump(best_model_grid, \"best_model_logreg.joblib\")\n",
    "\n",
    "print(\"Meilleurs estimateurs trouvés :\", grid_search.best_estimator_)\n",
    "print(\"Meilleurs hyperparamètres trouvés :\", grid_search.best_params_)\n",
    "print(\"Meilleur score d'entraînement :\", grid_search.best_score_)\n",
    "\n"
   ]
  },
  {
   "cell_type": "markdown",
   "metadata": {},
   "source": [
    "#### `LogisticRegression` avec `RandomizedSearchCV`\n",
    "Recherche et stockage des meilleurs hyperparamètres dans `best_model_radom`"
   ]
  },
  {
   "cell_type": "code",
   "execution_count": 7,
   "metadata": {},
   "outputs": [
    {
     "name": "stderr",
     "output_type": "stream",
     "text": [
      "c:\\Users\\coule\\Documents\\projets\\cardio-vasc-risks\\.venv\\Lib\\site-packages\\sklearn\\model_selection\\_search.py:317: UserWarning: The total space of parameters 4 is smaller than n_iter=5. Running 4 iterations. For exhaustive searches, use GridSearchCV.\n",
      "  warnings.warn(\n",
      "c:\\Users\\coule\\Documents\\projets\\cardio-vasc-risks\\.venv\\Lib\\site-packages\\sklearn\\linear_model\\_logistic.py:465: ConvergenceWarning: lbfgs failed to converge (status=1):\n",
      "STOP: TOTAL NO. OF ITERATIONS REACHED LIMIT.\n",
      "\n",
      "Increase the number of iterations (max_iter) or scale the data as shown in:\n",
      "    https://scikit-learn.org/stable/modules/preprocessing.html\n",
      "Please also refer to the documentation for alternative solver options:\n",
      "    https://scikit-learn.org/stable/modules/linear_model.html#logistic-regression\n",
      "  n_iter_i = _check_optimize_result(\n",
      "c:\\Users\\coule\\Documents\\projets\\cardio-vasc-risks\\.venv\\Lib\\site-packages\\sklearn\\linear_model\\_logistic.py:465: ConvergenceWarning: lbfgs failed to converge (status=1):\n",
      "STOP: TOTAL NO. OF ITERATIONS REACHED LIMIT.\n",
      "\n",
      "Increase the number of iterations (max_iter) or scale the data as shown in:\n",
      "    https://scikit-learn.org/stable/modules/preprocessing.html\n",
      "Please also refer to the documentation for alternative solver options:\n",
      "    https://scikit-learn.org/stable/modules/linear_model.html#logistic-regression\n",
      "  n_iter_i = _check_optimize_result(\n",
      "c:\\Users\\coule\\Documents\\projets\\cardio-vasc-risks\\.venv\\Lib\\site-packages\\sklearn\\linear_model\\_logistic.py:465: ConvergenceWarning: lbfgs failed to converge (status=1):\n",
      "STOP: TOTAL NO. OF ITERATIONS REACHED LIMIT.\n",
      "\n",
      "Increase the number of iterations (max_iter) or scale the data as shown in:\n",
      "    https://scikit-learn.org/stable/modules/preprocessing.html\n",
      "Please also refer to the documentation for alternative solver options:\n",
      "    https://scikit-learn.org/stable/modules/linear_model.html#logistic-regression\n",
      "  n_iter_i = _check_optimize_result(\n",
      "c:\\Users\\coule\\Documents\\projets\\cardio-vasc-risks\\.venv\\Lib\\site-packages\\sklearn\\linear_model\\_logistic.py:465: ConvergenceWarning: lbfgs failed to converge (status=1):\n",
      "STOP: TOTAL NO. OF ITERATIONS REACHED LIMIT.\n",
      "\n",
      "Increase the number of iterations (max_iter) or scale the data as shown in:\n",
      "    https://scikit-learn.org/stable/modules/preprocessing.html\n",
      "Please also refer to the documentation for alternative solver options:\n",
      "    https://scikit-learn.org/stable/modules/linear_model.html#logistic-regression\n",
      "  n_iter_i = _check_optimize_result(\n",
      "c:\\Users\\coule\\Documents\\projets\\cardio-vasc-risks\\.venv\\Lib\\site-packages\\sklearn\\linear_model\\_logistic.py:465: ConvergenceWarning: lbfgs failed to converge (status=1):\n",
      "STOP: TOTAL NO. OF ITERATIONS REACHED LIMIT.\n",
      "\n",
      "Increase the number of iterations (max_iter) or scale the data as shown in:\n",
      "    https://scikit-learn.org/stable/modules/preprocessing.html\n",
      "Please also refer to the documentation for alternative solver options:\n",
      "    https://scikit-learn.org/stable/modules/linear_model.html#logistic-regression\n",
      "  n_iter_i = _check_optimize_result(\n",
      "c:\\Users\\coule\\Documents\\projets\\cardio-vasc-risks\\.venv\\Lib\\site-packages\\sklearn\\linear_model\\_logistic.py:465: ConvergenceWarning: lbfgs failed to converge (status=1):\n",
      "STOP: TOTAL NO. OF ITERATIONS REACHED LIMIT.\n",
      "\n",
      "Increase the number of iterations (max_iter) or scale the data as shown in:\n",
      "    https://scikit-learn.org/stable/modules/preprocessing.html\n",
      "Please also refer to the documentation for alternative solver options:\n",
      "    https://scikit-learn.org/stable/modules/linear_model.html#logistic-regression\n",
      "  n_iter_i = _check_optimize_result(\n",
      "c:\\Users\\coule\\Documents\\projets\\cardio-vasc-risks\\.venv\\Lib\\site-packages\\sklearn\\linear_model\\_logistic.py:465: ConvergenceWarning: lbfgs failed to converge (status=1):\n",
      "STOP: TOTAL NO. OF ITERATIONS REACHED LIMIT.\n",
      "\n",
      "Increase the number of iterations (max_iter) or scale the data as shown in:\n",
      "    https://scikit-learn.org/stable/modules/preprocessing.html\n",
      "Please also refer to the documentation for alternative solver options:\n",
      "    https://scikit-learn.org/stable/modules/linear_model.html#logistic-regression\n",
      "  n_iter_i = _check_optimize_result(\n",
      "c:\\Users\\coule\\Documents\\projets\\cardio-vasc-risks\\.venv\\Lib\\site-packages\\sklearn\\linear_model\\_logistic.py:465: ConvergenceWarning: lbfgs failed to converge (status=1):\n",
      "STOP: TOTAL NO. OF ITERATIONS REACHED LIMIT.\n",
      "\n",
      "Increase the number of iterations (max_iter) or scale the data as shown in:\n",
      "    https://scikit-learn.org/stable/modules/preprocessing.html\n",
      "Please also refer to the documentation for alternative solver options:\n",
      "    https://scikit-learn.org/stable/modules/linear_model.html#logistic-regression\n",
      "  n_iter_i = _check_optimize_result(\n",
      "c:\\Users\\coule\\Documents\\projets\\cardio-vasc-risks\\.venv\\Lib\\site-packages\\sklearn\\linear_model\\_logistic.py:465: ConvergenceWarning: lbfgs failed to converge (status=1):\n",
      "STOP: TOTAL NO. OF ITERATIONS REACHED LIMIT.\n",
      "\n",
      "Increase the number of iterations (max_iter) or scale the data as shown in:\n",
      "    https://scikit-learn.org/stable/modules/preprocessing.html\n",
      "Please also refer to the documentation for alternative solver options:\n",
      "    https://scikit-learn.org/stable/modules/linear_model.html#logistic-regression\n",
      "  n_iter_i = _check_optimize_result(\n",
      "c:\\Users\\coule\\Documents\\projets\\cardio-vasc-risks\\.venv\\Lib\\site-packages\\sklearn\\linear_model\\_logistic.py:465: ConvergenceWarning: lbfgs failed to converge (status=1):\n",
      "STOP: TOTAL NO. OF ITERATIONS REACHED LIMIT.\n",
      "\n",
      "Increase the number of iterations (max_iter) or scale the data as shown in:\n",
      "    https://scikit-learn.org/stable/modules/preprocessing.html\n",
      "Please also refer to the documentation for alternative solver options:\n",
      "    https://scikit-learn.org/stable/modules/linear_model.html#logistic-regression\n",
      "  n_iter_i = _check_optimize_result(\n"
     ]
    },
    {
     "name": "stdout",
     "output_type": "stream",
     "text": [
      "✅ Randomized search terminée.\n",
      "Meilleurs hyperparamètres trouvés : {'solver': 'lbfgs', 'penalty': 'l2', 'max_iter': 500, 'C': 200}\n",
      "Meilleur score d'entraînement (recall classe 1) : 0.6721553202957855\n"
     ]
    },
    {
     "name": "stderr",
     "output_type": "stream",
     "text": [
      "c:\\Users\\coule\\Documents\\projets\\cardio-vasc-risks\\.venv\\Lib\\site-packages\\sklearn\\linear_model\\_logistic.py:465: ConvergenceWarning: lbfgs failed to converge (status=1):\n",
      "STOP: TOTAL NO. OF ITERATIONS REACHED LIMIT.\n",
      "\n",
      "Increase the number of iterations (max_iter) or scale the data as shown in:\n",
      "    https://scikit-learn.org/stable/modules/preprocessing.html\n",
      "Please also refer to the documentation for alternative solver options:\n",
      "    https://scikit-learn.org/stable/modules/linear_model.html#logistic-regression\n",
      "  n_iter_i = _check_optimize_result(\n"
     ]
    }
   ],
   "source": [
    "X_train, X_test, y_train, y_test = train_test_split(\n",
    "    X, y, test_size=0.2, stratify=y, random_state=42\n",
    ")\n",
    "\n",
    "param_distributions = {\n",
    "    'C':  [150, 200], # C variera de 0.01 à 100, selon une distribution log-uniforme\n",
    "    'penalty': ['l2'],\n",
    "    'solver': ['liblinear', 'lbfgs'],\n",
    "    'max_iter': [500]\n",
    "}\n",
    "\n",
    "randomized_search = RandomizedSearchCV(\n",
    "    estimator = model,\n",
    "    param_distributions=param_distributions,  # ou param_grid si tu préfères, mais param_distributions est la convention\n",
    "    cv=5,\n",
    "    scoring=recall_scorer,  # Optimise spécifiquement le recall de la classe 1\n",
    "    n_iter=5,  # Ici, 2 car tu n'as que 2 valeurs pour C, mais à adapter selon ton espace de paramètres\n",
    "    random_state=42\n",
    "                           )\n",
    "\n",
    "# 2. Lancer l'entraînement avec .fit(), Ne relance pas le fit si déjà effectué\n",
    "if \"best_model_random\" not in globals():\n",
    "    randomized_search.fit(X_train, y_train)\n",
    "    best_model_random = randomized_search.best_estimator_\n",
    "    print(\"✅ Randomized search terminée.\")\n",
    "else:\n",
    "    print(\"✅ Modèle aléatoire déjà entraîné : utilisation de best_model_random.\")\n",
    "\n",
    "# Sauvegarde sur disque\n",
    "joblib.dump(best_model_random, \"best_model_random_logreg.joblib\")\n",
    "\n",
    "\n",
    "print(\"Meilleurs hyperparamètres trouvés :\", randomized_search.best_params_ if \"randomized_search\" in globals() else best_model_random.get_params())\n",
    "print(\"Meilleur score d'entraînement (recall classe 1) :\", randomized_search.best_score_ if \"randomized_search\" in globals() else \"déjà calculé\")"
   ]
  },
  {
   "cell_type": "markdown",
   "metadata": {},
   "source": [
    "## Execution du modele"
   ]
  },
  {
   "cell_type": "code",
   "execution_count": 13,
   "metadata": {},
   "outputs": [],
   "source": [
    "# Chargement des meilleurs paramètre de GridSearchCV \n",
    "best_model_grid = joblib.load(\"best_model_logreg.joblib\")\n",
    "# et RandomSearchCV\n",
    "best_model_random = joblib.load(\"best_model_random_logreg.joblib\")"
   ]
  },
  {
   "cell_type": "code",
   "execution_count": 5,
   "metadata": {},
   "outputs": [
    {
     "name": "stdout",
     "output_type": "stream",
     "text": [
      "✅ Accuracy : 0.6113\n",
      "📊 Rapport de classification :\n",
      "               precision    recall  f1-score   support\n",
      "\n",
      "           0       0.67      0.47      0.55      1609\n",
      "           1       0.58      0.76      0.66      1553\n",
      "\n",
      "    accuracy                           0.61      3162\n",
      "   macro avg       0.62      0.61      0.60      3162\n",
      "weighted avg       0.62      0.61      0.60      3162\n",
      "\n",
      "🧱 Matrice de confusion :\n",
      " [[ 754  855]\n",
      " [ 374 1179]]\n",
      "Résultat enregistré dans ../results.csv\n"
     ]
    }
   ],
   "source": [
    "\n",
    "# ============== EXECUTION de modèles et ENREGISTREMENT des métriques ================\n",
    "\n",
    "# execute_model_and_save_score(X, y)\n",
    "# execute_model_and_save_score(X, y, max_iter=1000, penalty=\"l2\", solver=\"lbfgs\")\n",
    "# execute_model_and_save_score(X, y, max_iter=2000, penalty=\"l2\", solver=\"lbfgs\")\n",
    "# execute_model_and_save_score(X, y, max_iter=2000, solver=\"lbfgs\")\n",
    "# execute_model_and_save_score(X, y, df_path=DF_PATH, max_iter=2000)\n",
    "# execute_model_and_save_score(X, y, df_path=DF_PATH, penalty=\"l2\", solver=\"lbfgs\", max_iter=2000)\n",
    "# execute_model_and_save_score(X, y, df_path=DF_PATH, penalty='l1', solver='liblinear')\n",
    "# execute_model_and_save_score(X, y, df_path=DF_PATH, penalty='l1', solver='saga')\n",
    "# execute_model_and_save_score(X, y, df_path=DF_PATH, penalty='l2', solver='newton-cg')\n",
    "# execute_model_and_save_score(X, y, max_iter=2000, df_path=DF_PATH, penalty='l2', solver='newton-cg')\n",
    "# execute_model_and_save_score(X, y, C= 100, max_iter=1000, penalty= 'l2', solver= 'liblinear', df_path = DF_PATH)\n",
    "# execute_model_and_save_score(X, y, C= 200, max_iter= 1000, penalty= 'l2', solver= 'liblinear', df_path = DF_PATH)\n",
    "# execute_model_and_save_score(X, y, C= 200, max_iter= 1000, penalty= 'l2', solver= 'liblinear', df_path = DF_PATH)\n",
    "# execute_model_and_save_score(X, y, C= 150, max_iter= 1000, penalty= 'l2', solver= 'liblinear', df_path = DF_PATH)\n",
    "# execute_model_and_save_score(X, y, C= 200, max_iter= 1000, penalty= 'l2', solver= 'liblinear', df_path = DF_PATH)\n",
    "# execute_model_and_save_score(X, y, model=best_model_grid)\n",
    "execute_model_and_save_score(X, y, model=best_model_grid)"
   ]
  },
  {
   "cell_type": "code",
   "execution_count": 14,
   "metadata": {},
   "outputs": [
    {
     "name": "stdout",
     "output_type": "stream",
     "text": [
      "✅ Accuracy : 0.6113\n",
      "📊 Rapport de classification :\n",
      "               precision    recall  f1-score   support\n",
      "\n",
      "           0       0.67      0.47      0.55      1609\n",
      "           1       0.58      0.76      0.66      1553\n",
      "\n",
      "    accuracy                           0.61      3162\n",
      "   macro avg       0.62      0.61      0.60      3162\n",
      "weighted avg       0.62      0.61      0.60      3162\n",
      " \n",
      "\n",
      "🧱 Matrice de confusion :\n",
      " [[ 754  855]\n",
      " [ 374 1179]] \n",
      "\n",
      "Precision :  0.624\n",
      "Recall :  0.6139\n",
      "Recall 1 :  0.7592\n",
      "F 1 :  0.6042\n"
     ]
    }
   ],
   "source": [
    "y_test, y_pred, y_proba, X_test = execute_model(X, y, model=best_model_grid)"
   ]
  },
  {
   "cell_type": "code",
   "execution_count": 15,
   "metadata": {},
   "outputs": [
    {
     "name": "stdout",
     "output_type": "stream",
     "text": [
      "(array([0, 1]), array([1128, 2034]))\n"
     ]
    }
   ],
   "source": [
    "print(np.unique(y_pred, return_counts=True))"
   ]
  },
  {
   "cell_type": "markdown",
   "metadata": {},
   "source": [
    "## Modification du seuil"
   ]
  },
  {
   "cell_type": "code",
   "execution_count": 16,
   "metadata": {},
   "outputs": [],
   "source": [
    "# Obtenir les probabilités pour la classe 1\n",
    "y_proba = best_model_grid.predict_proba(X_test)[:, 1]\n",
    "\n",
    "# Trouver le seuil qui maximise le recall\n",
    "precision, recall, thresholds = precision_recall_curve(y_test, y_proba)"
   ]
  },
  {
   "cell_type": "code",
   "execution_count": 17,
   "metadata": {},
   "outputs": [
    {
     "name": "stdout",
     "output_type": "stream",
     "text": [
      "[0.49114485 0.49130022 0.4914557  ... 0.5        1.         1.        ] [1.00000000e+00 1.00000000e+00 1.00000000e+00 ... 6.43915003e-04\n",
      " 6.43915003e-04 0.00000000e+00] [0.43468577 0.43584358 0.43610891 ... 0.6304209  0.63117184 0.63265865]\n"
     ]
    }
   ],
   "source": [
    "print(precision, recall, thresholds)"
   ]
  },
  {
   "cell_type": "code",
   "execution_count": 18,
   "metadata": {},
   "outputs": [
    {
     "data": {
      "image/png": "[encoded data removed]",
      "text/plain": [
       "<Figure size 640x480 with 1 Axes>"
      ]
     },
     "metadata": {},
     "output_type": "display_data"
    }
   ],
   "source": [
    "import matplotlib.pyplot as plt\n",
    "\n",
    "plt.plot(recall, precision)\n",
    "plt.xlabel('Recall')\n",
    "plt.ylabel('Precision')\n",
    "plt.title('Precision-Recall curve')\n",
    "plt.show()\n"
   ]
  },
  {
   "cell_type": "code",
   "execution_count": 11,
   "metadata": {},
   "outputs": [
    {
     "data": {
      "image/png": "[encoded data removed]",
      "text/plain": [
       "<Figure size 640x480 with 1 Axes>"
      ]
     },
     "metadata": {},
     "output_type": "display_data"
    }
   ],
   "source": [
    "plt.plot(thresholds, precision[:-1], label='Précision')\n",
    "plt.plot(thresholds, recall[:-1], label='Rappel')\n",
    "plt.xlabel('Seuil de décision')\n",
    "plt.ylabel('Score')\n",
    "plt.legend()\n",
    "plt.title('Courbe Précision-Rappel selon le seuil')\n",
    "plt.grid()\n",
    "plt.show()\n"
   ]
  },
  {
   "cell_type": "code",
   "execution_count": 19,
   "metadata": {},
   "outputs": [
    {
     "data": {
      "text/plain": [
       "<sklearn.metrics._plot.confusion_matrix.ConfusionMatrixDisplay at 0x1fce95f63c0>"
      ]
     },
     "execution_count": 19,
     "metadata": {},
     "output_type": "execute_result"
    },
    {
     "data": {
      "image/png": "[encoded data removed]",
      "text/plain": [
       "<Figure size 640x480 with 2 Axes>"
      ]
     },
     "metadata": {},
     "output_type": "display_data"
    }
   ],
   "source": [
    "ConfusionMatrixDisplay.from_predictions(y_test, y_pred)\n"
   ]
  },
  {
   "cell_type": "code",
   "execution_count": 13,
   "metadata": {},
   "outputs": [
    {
     "name": "stdout",
     "output_type": "stream",
     "text": [
      "              precision    recall  f1-score   support\n",
      "\n",
      "           0       0.00      0.00      0.00      6926\n",
      "           1       0.49      1.00      0.66      6787\n",
      "\n",
      "    accuracy                           0.49     13713\n",
      "   macro avg       0.25      0.50      0.33     13713\n",
      "weighted avg       0.24      0.49      0.33     13713\n",
      "\n"
     ]
    },
    {
     "name": "stderr",
     "output_type": "stream",
     "text": [
      "c:\\Users\\coule\\Documents\\projets\\cardio-vasc-risks\\.venv\\Lib\\site-packages\\sklearn\\metrics\\_classification.py:1565: UndefinedMetricWarning: Precision is ill-defined and being set to 0.0 in labels with no predicted samples. Use `zero_division` parameter to control this behavior.\n",
      "  _warn_prf(average, modifier, f\"{metric.capitalize()} is\", len(result))\n",
      "c:\\Users\\coule\\Documents\\projets\\cardio-vasc-risks\\.venv\\Lib\\site-packages\\sklearn\\metrics\\_classification.py:1565: UndefinedMetricWarning: Precision is ill-defined and being set to 0.0 in labels with no predicted samples. Use `zero_division` parameter to control this behavior.\n",
      "  _warn_prf(average, modifier, f\"{metric.capitalize()} is\", len(result))\n",
      "c:\\Users\\coule\\Documents\\projets\\cardio-vasc-risks\\.venv\\Lib\\site-packages\\sklearn\\metrics\\_classification.py:1565: UndefinedMetricWarning: Precision is ill-defined and being set to 0.0 in labels with no predicted samples. Use `zero_division` parameter to control this behavior.\n",
      "  _warn_prf(average, modifier, f\"{metric.capitalize()} is\", len(result))\n"
     ]
    }
   ],
   "source": [
    "# Exemple : choisir un seuil qui donne un recall élevé (ici, le premier seuil où recall > 0.9)\n",
    "target_recall = 0.2\n",
    "# On compare recall[:-1] car thresholds a une valeur de moins que recall\n",
    "mask = recall[:-1] > target_recall\n",
    "\n",
    "if mask.any():  # S'il existe un seuil qui donne recall > 0.9\n",
    "    threshold = thresholds[mask][0]\n",
    "else:\n",
    "    print(\"Aucun seuil ne permet d'atteindre recall >\", target_recall)\n",
    "    threshold = thresholds[-1]  # On prend le dernier seuil disponible\n",
    "\n",
    "# Prédire avec le nouveau seuil\n",
    "y_pred = (y_proba >= threshold).astype(int)\n",
    "\n",
    "# Évaluer les performances\n",
    "print(classification_report(y_test, y_pred))"
   ]
  },
  {
   "cell_type": "code",
   "execution_count": null,
   "metadata": {},
   "outputs": [],
   "source": []
  }
 ],
 "metadata": {
  "kernelspec": {
   "display_name": ".venv",
   "language": "python",
   "name": "python3"
  },
  "language_info": {
   "codemirror_mode": {
    "name": "ipython",
    "version": 3
   },
   "file_extension": ".py",
   "mimetype": "text/x-python",
   "name": "python",
   "nbconvert_exporter": "python",
   "pygments_lexer": "ipython3",
   "version": "3.12.4"
  }
 },
 "nbformat": 4,
 "nbformat_minor": 2
}
