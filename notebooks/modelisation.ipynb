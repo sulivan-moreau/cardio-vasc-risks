{
 "cells": [
  {
   "cell_type": "code",
   "execution_count": 26,
   "metadata": {},
   "outputs": [],
   "source": [
    "# --- Initialisation ---\n",
    "import os\n",
    "import sys\n",
    "import pandas as pd\n",
    "\n",
    "from sklearn.linear_model import LogisticRegression\n",
    "from sklearn.metrics import classification_report, confusion_matrix, accuracy_score, precision_recall_curve\n",
    "from sklearn.model_selection import train_test_split, GridSearchCV, RandomizedSearchCV\n",
    "\n",
    "from sklearn.metrics import recall_score, make_scorer\n",
    "\n",
    "from scipy.stats import loguniform, uniform\n",
    "\n",
    "# --- Accès au dossier contenant utils.py ---\n",
    "sys.path.append(os.path.abspath(\"..\"))\n",
    "from utils import execute_model_and_save_score\n",
    "\n",
    "# --- Chargement des données ---\n",
    "# DF_PATH = \"../data/cardio_optimized.csv\"\n",
    "# DF_PATH = \"../data/cardio_light.csv\"\n",
    "DF_PATH = \"../data/cardio_light_std.csv\"\n",
    "\n",
    "\n",
    "df = pd.read_csv(DF_PATH, sep=\";\")\n",
    "\n",
    "# --- Séparation des features et de la cible ---\n",
    "X = df.drop(columns=[\"cardio\"])\n",
    "y = df[\"cardio\"]\n",
    "\n",
    "\n",
    "# 1. Créer un scorer personnalisé pour le recall de la classe 1\n",
    "recall_scorer = make_scorer(\n",
    "    recall_score, \n",
    "    pos_label=1  # Spécifie explicitement que la classe 1 est la classe positive\n",
    ")\n"
   ]
  },
  {
   "cell_type": "markdown",
   "metadata": {},
   "source": [
    "#### Recherche des meilleurs hyperparamètre de `LogisticRegression` avec `GridSearchCV`"
   ]
  },
  {
   "cell_type": "code",
   "execution_count": null,
   "metadata": {},
   "outputs": [
    {
     "name": "stderr",
     "output_type": "stream",
     "text": [
      "c:\\Users\\coule\\Documents\\projets\\cardio-vasc-risks\\.venv\\Lib\\site-packages\\sklearn\\linear_model\\_logistic.py:465: ConvergenceWarning: lbfgs failed to converge (status=1):\n",
      "STOP: TOTAL NO. OF ITERATIONS REACHED LIMIT.\n",
      "\n",
      "Increase the number of iterations (max_iter) or scale the data as shown in:\n",
      "    https://scikit-learn.org/stable/modules/preprocessing.html\n",
      "Please also refer to the documentation for alternative solver options:\n",
      "    https://scikit-learn.org/stable/modules/linear_model.html#logistic-regression\n",
      "  n_iter_i = _check_optimize_result(\n",
      "c:\\Users\\coule\\Documents\\projets\\cardio-vasc-risks\\.venv\\Lib\\site-packages\\sklearn\\linear_model\\_logistic.py:465: ConvergenceWarning: lbfgs failed to converge (status=1):\n",
      "STOP: TOTAL NO. OF ITERATIONS REACHED LIMIT.\n",
      "\n",
      "Increase the number of iterations (max_iter) or scale the data as shown in:\n",
      "    https://scikit-learn.org/stable/modules/preprocessing.html\n",
      "Please also refer to the documentation for alternative solver options:\n",
      "    https://scikit-learn.org/stable/modules/linear_model.html#logistic-regression\n",
      "  n_iter_i = _check_optimize_result(\n"
     ]
    },
    {
     "name": "stdout",
     "output_type": "stream",
     "text": [
      "Meilleurs hyperparamètres trouvés : {'C': 150, 'max_iter': 1000, 'penalty': 'l2', 'solver': 'liblinear'}\n",
      "Meilleur score d'entraînement : 0.6844220333676283\n"
     ]
    }
   ],
   "source": [
    "X_train, X_test, y_train, y_test = train_test_split(X, y, test_size=0.2, stratify=y, random_state=42)\n",
    "\n",
    "param_grid = {\n",
    "    'C': [50, 100, 150, 200],\n",
    "    'penalty': ['l2'],  # ou 'l1' si le solver le permet\n",
    "    'solver': ['liblinear', 'lbfgs'],\n",
    "    'max_iter': [1000]\n",
    "}\n",
    "\n",
    "model = LogisticRegression()\n",
    "grid_search = GridSearchCV(model, \n",
    "                           param_grid, \n",
    "                           cv=5, \n",
    "                        #    scoring='recall'\n",
    "                           scoring=recall_scorer  # Optimise spécifiquement le recall de la classe 1\n",
    "                           )\n",
    "grid_search.fit(X_train, y_train)\n",
    "\n",
    "print(\"Meilleurs hyperparamètres trouvés :\", grid_search.best_params_)\n",
    "print(\"Meilleur score d'entraînement :\", grid_search.best_score_)\n",
    "\n"
   ]
  },
  {
   "cell_type": "markdown",
   "metadata": {},
   "source": [
    "#### Recherche des meilleurs hyperparamètre de `LogisticRegression` avec `RandomizedSearchCV`"
   ]
  },
  {
   "cell_type": "code",
   "execution_count": null,
   "metadata": {},
   "outputs": [
    {
     "name": "stderr",
     "output_type": "stream",
     "text": [
      "c:\\Users\\coule\\Documents\\projets\\cardio-vasc-risks\\.venv\\Lib\\site-packages\\sklearn\\model_selection\\_search.py:317: UserWarning: The total space of parameters 2 is smaller than n_iter=5. Running 2 iterations. For exhaustive searches, use GridSearchCV.\n",
      "  warnings.warn(\n",
      "c:\\Users\\coule\\Documents\\projets\\cardio-vasc-risks\\.venv\\Lib\\site-packages\\sklearn\\linear_model\\_logistic.py:465: ConvergenceWarning: lbfgs failed to converge (status=1):\n",
      "STOP: TOTAL NO. OF ITERATIONS REACHED LIMIT.\n",
      "\n",
      "Increase the number of iterations (max_iter) or scale the data as shown in:\n",
      "    https://scikit-learn.org/stable/modules/preprocessing.html\n",
      "Please also refer to the documentation for alternative solver options:\n",
      "    https://scikit-learn.org/stable/modules/linear_model.html#logistic-regression\n",
      "  n_iter_i = _check_optimize_result(\n",
      "c:\\Users\\coule\\Documents\\projets\\cardio-vasc-risks\\.venv\\Lib\\site-packages\\sklearn\\linear_model\\_logistic.py:465: ConvergenceWarning: lbfgs failed to converge (status=1):\n",
      "STOP: TOTAL NO. OF ITERATIONS REACHED LIMIT.\n",
      "\n",
      "Increase the number of iterations (max_iter) or scale the data as shown in:\n",
      "    https://scikit-learn.org/stable/modules/preprocessing.html\n",
      "Please also refer to the documentation for alternative solver options:\n",
      "    https://scikit-learn.org/stable/modules/linear_model.html#logistic-regression\n",
      "  n_iter_i = _check_optimize_result(\n",
      "c:\\Users\\coule\\Documents\\projets\\cardio-vasc-risks\\.venv\\Lib\\site-packages\\sklearn\\linear_model\\_logistic.py:465: ConvergenceWarning: lbfgs failed to converge (status=1):\n",
      "STOP: TOTAL NO. OF ITERATIONS REACHED LIMIT.\n",
      "\n",
      "Increase the number of iterations (max_iter) or scale the data as shown in:\n",
      "    https://scikit-learn.org/stable/modules/preprocessing.html\n",
      "Please also refer to the documentation for alternative solver options:\n",
      "    https://scikit-learn.org/stable/modules/linear_model.html#logistic-regression\n",
      "  n_iter_i = _check_optimize_result(\n",
      "c:\\Users\\coule\\Documents\\projets\\cardio-vasc-risks\\.venv\\Lib\\site-packages\\sklearn\\linear_model\\_logistic.py:465: ConvergenceWarning: lbfgs failed to converge (status=1):\n",
      "STOP: TOTAL NO. OF ITERATIONS REACHED LIMIT.\n",
      "\n",
      "Increase the number of iterations (max_iter) or scale the data as shown in:\n",
      "    https://scikit-learn.org/stable/modules/preprocessing.html\n",
      "Please also refer to the documentation for alternative solver options:\n",
      "    https://scikit-learn.org/stable/modules/linear_model.html#logistic-regression\n",
      "  n_iter_i = _check_optimize_result(\n",
      "c:\\Users\\coule\\Documents\\projets\\cardio-vasc-risks\\.venv\\Lib\\site-packages\\sklearn\\linear_model\\_logistic.py:465: ConvergenceWarning: lbfgs failed to converge (status=1):\n",
      "STOP: TOTAL NO. OF ITERATIONS REACHED LIMIT.\n",
      "\n",
      "Increase the number of iterations (max_iter) or scale the data as shown in:\n",
      "    https://scikit-learn.org/stable/modules/preprocessing.html\n",
      "Please also refer to the documentation for alternative solver options:\n",
      "    https://scikit-learn.org/stable/modules/linear_model.html#logistic-regression\n",
      "  n_iter_i = _check_optimize_result(\n"
     ]
    },
    {
     "name": "stdout",
     "output_type": "stream",
     "text": [
      "Meilleurs hyperparamètres trouvés : {'solver': 'liblinear', 'penalty': 'l2', 'max_iter': 500, 'C': 200}\n",
      "Meilleur score d'entraînement (recall classe 1) : 0.6715657845951777\n"
     ]
    }
   ],
   "source": [
    "model=LogisticRegression()\n",
    "\n",
    "param_distributions = {\n",
    "    'C':  [150, 200], # C variera de 0.01 à 100, selon une distribution log-uniforme\n",
    "    'penalty': ['l2'],\n",
    "    'solver': ['liblinear', 'lbfgs'],\n",
    "    'max_iter': [500]\n",
    "}\n",
    "\n",
    "X_train, X_test, y_train, y_test = train_test_split(\n",
    "    X, y, test_size=0.2, stratify=y, random_state=42\n",
    ")\n",
    "\n",
    "\n",
    "randomized_search = RandomizedSearchCV(\n",
    "    estimator = model,\n",
    "    param_distributions=param_distributions,  # ou param_grid si tu préfères, mais param_distributions est la convention\n",
    "    cv=5,\n",
    "    scoring=recall_scorer,  # Optimise spécifiquement le recall de la classe 1\n",
    "    n_iter=5,  # Ici, 2 car tu n'as que 2 valeurs pour C, mais à adapter selon ton espace de paramètres\n",
    "    random_state=42\n",
    "                           )\n",
    "\n",
    "# 2. Lancer l'entraînement avec .fit()\n",
    "randomized_search.fit(X_train, y_train) \n",
    "\n",
    "\n",
    "print(\"Meilleurs hyperparamètres trouvés :\", randomized_search.best_params_)\n",
    "print(\"Meilleur score d'entraînement (recall classe 1) :\", randomized_search.best_score_)"
   ]
  },
  {
   "cell_type": "code",
   "execution_count": null,
   "metadata": {},
   "outputs": [],
   "source": []
  },
  {
   "cell_type": "code",
   "execution_count": 24,
   "metadata": {},
   "outputs": [
    {
     "name": "stdout",
     "output_type": "stream",
     "text": [
      "✅ Accuracy : 0.7182\n",
      "📊 Rapport de classification :\n",
      "               precision    recall  f1-score   support\n",
      "\n",
      "           0       0.71      0.75      0.73      6926\n",
      "           1       0.73      0.69      0.71      6787\n",
      "\n",
      "    accuracy                           0.72     13713\n",
      "   macro avg       0.72      0.72      0.72     13713\n",
      "weighted avg       0.72      0.72      0.72     13713\n",
      "\n",
      "🧱 Matrice de confusion :\n",
      " [[5192 1734]\n",
      " [2131 4656]]\n",
      "Résultat enregistré dans ../results.csv\n"
     ]
    }
   ],
   "source": [
    "\n",
    "# ============== Exécution de modèles  ================\n",
    "\n",
    "# execute_model_and_save_score(X, y)\n",
    "# execute_model_and_save_score(X, y, max_iter=1000, penalty=\"l2\", solver=\"lbfgs\")\n",
    "# execute_model_and_save_score(X, y, max_iter=2000, penalty=\"l2\", solver=\"lbfgs\")\n",
    "# execute_model_and_save_score(X, y, max_iter=2000, solver=\"lbfgs\")\n",
    "# execute_model_and_save_score(X, y, df_path=DF_PATH, max_iter=2000)\n",
    "# execute_model_and_save_score(X, y, df_path=DF_PATH, penalty=\"l2\", solver=\"lbfgs\", max_iter=2000)\n",
    "# execute_model_and_save_score(X, y, df_path=DF_PATH, penalty='l1', solver='liblinear')\n",
    "# execute_model_and_save_score(X, y, df_path=DF_PATH, penalty='l1', solver='saga')\n",
    "# execute_model_and_save_score(X, y, df_path=DF_PATH, penalty='l2', solver='newton-cg')\n",
    "# execute_model_and_save_score(X, y, max_iter=2000, df_path=DF_PATH, penalty='l2', solver='newton-cg')\n",
    "# execute_model_and_save_score(X, y, C= 100, max_iter=1000, penalty= 'l2', solver= 'liblinear', df_path = DF_PATH)\n",
    "# execute_model_and_save_score(X, y, C= 200, max_iter= 1000, penalty= 'l2', solver= 'liblinear', df_path = DF_PATH)\n",
    "# execute_model_and_save_score(X, y, C= 200, max_iter= 1000, penalty= 'l2', solver= 'liblinear', df_path = DF_PATH)\n",
    "# execute_model_and_save_score(X, y, C= 150, max_iter= 1000, penalty= 'l2', solver= 'liblinear', df_path = DF_PATH)\n",
    "execute_model_and_save_score(X, y, C= 200, max_iter= 1000, penalty= 'l2', solver= 'liblinear', df_path = DF_PATH)\n",
    "\n"
   ]
  },
  {
   "cell_type": "markdown",
   "metadata": {},
   "source": [
    "## Modification du seuil"
   ]
  },
  {
   "cell_type": "code",
   "execution_count": null,
   "metadata": {},
   "outputs": [],
   "source": [
    "# Obtenir les probabilités pour la classe 1\n",
    "y_proba = grid_search.best_estimator_.predict_proba(X_test)[:, 1]\n",
    "\n",
    "# Trouver le seuil qui maximise le recall\n",
    "precision, recall, thresholds = precision_recall_curve(y_test, y_proba)"
   ]
  },
  {
   "cell_type": "code",
   "execution_count": 28,
   "metadata": {},
   "outputs": [
    {
     "name": "stdout",
     "output_type": "stream",
     "text": [
      "[0.49493182 0.49496791 0.49500401 ... 1.         1.         1.        ] [1.00000000e+00 1.00000000e+00 1.00000000e+00 ... 2.94681008e-04\n",
      " 1.47340504e-04 0.00000000e+00] [0.04941727 0.05046166 0.05180551 ... 0.9417661  0.9427076  0.94402781]\n"
     ]
    }
   ],
   "source": [
    "print(precision, recall, thresholds)"
   ]
  },
  {
   "cell_type": "code",
   "execution_count": 30,
   "metadata": {},
   "outputs": [
    {
     "data": {
      "image/png": "[encoded data removed]",
      "text/plain": [
       "<Figure size 640x480 with 1 Axes>"
      ]
     },
     "metadata": {},
     "output_type": "display_data"
    }
   ],
   "source": [
    "import matplotlib.pyplot as plt\n",
    "\n",
    "plt.plot(recall, precision)\n",
    "plt.xlabel('Recall')\n",
    "plt.ylabel('Precision')\n",
    "plt.title('Precision-Recall curve')\n",
    "plt.show()\n"
   ]
  },
  {
   "cell_type": "code",
   "execution_count": 35,
   "metadata": {},
   "outputs": [
    {
     "name": "stdout",
     "output_type": "stream",
     "text": [
      "              precision    recall  f1-score   support\n",
      "\n",
      "           0       0.00      0.00      0.00      6926\n",
      "           1       0.49      1.00      0.66      6787\n",
      "\n",
      "    accuracy                           0.49     13713\n",
      "   macro avg       0.25      0.50      0.33     13713\n",
      "weighted avg       0.24      0.49      0.33     13713\n",
      "\n"
     ]
    },
    {
     "name": "stderr",
     "output_type": "stream",
     "text": [
      "c:\\Users\\coule\\Documents\\projets\\cardio-vasc-risks\\.venv\\Lib\\site-packages\\sklearn\\metrics\\_classification.py:1565: UndefinedMetricWarning: Precision is ill-defined and being set to 0.0 in labels with no predicted samples. Use `zero_division` parameter to control this behavior.\n",
      "  _warn_prf(average, modifier, f\"{metric.capitalize()} is\", len(result))\n",
      "c:\\Users\\coule\\Documents\\projets\\cardio-vasc-risks\\.venv\\Lib\\site-packages\\sklearn\\metrics\\_classification.py:1565: UndefinedMetricWarning: Precision is ill-defined and being set to 0.0 in labels with no predicted samples. Use `zero_division` parameter to control this behavior.\n",
      "  _warn_prf(average, modifier, f\"{metric.capitalize()} is\", len(result))\n",
      "c:\\Users\\coule\\Documents\\projets\\cardio-vasc-risks\\.venv\\Lib\\site-packages\\sklearn\\metrics\\_classification.py:1565: UndefinedMetricWarning: Precision is ill-defined and being set to 0.0 in labels with no predicted samples. Use `zero_division` parameter to control this behavior.\n",
      "  _warn_prf(average, modifier, f\"{metric.capitalize()} is\", len(result))\n"
     ]
    }
   ],
   "source": [
    "# Exemple : choisir un seuil qui donne un recall élevé (ici, le premier seuil où recall > 0.9)\n",
    "target_recall = 0.6\n",
    "# On compare recall[:-1] car thresholds a une valeur de moins que recall\n",
    "mask = recall[:-1] > target_recall\n",
    "\n",
    "if mask.any():  # S'il existe un seuil qui donne recall > 0.9\n",
    "    threshold = thresholds[mask][0]\n",
    "else:\n",
    "    print(\"Aucun seuil ne permet d'atteindre recall >\", target_recall)\n",
    "    threshold = thresholds[-1]  # On prend le dernier seuil disponible\n",
    "\n",
    "# Prédire avec le nouveau seuil\n",
    "y_pred = (y_proba >= threshold).astype(int)\n",
    "\n",
    "# Évaluer les performances\n",
    "print(classification_report(y_test, y_pred))"
   ]
  }
 ],
 "metadata": {
  "kernelspec": {
   "display_name": ".venv",
   "language": "python",
   "name": "python3"
  },
  "language_info": {
   "codemirror_mode": {
    "name": "ipython",
    "version": 3
   },
   "file_extension": ".py",
   "mimetype": "text/x-python",
   "name": "python",
   "nbconvert_exporter": "python",
   "pygments_lexer": "ipython3",
   "version": "3.12.4"
  }
 },
 "nbformat": 4,
 "nbformat_minor": 2
}
