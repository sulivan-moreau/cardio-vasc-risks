{
 "cells": [
  {
   "cell_type": "code",
   "execution_count": null,
   "metadata": {},
   "outputs": [],
   "source": [
    "import numpy as np\n",
    "import seaborn as sns \n",
    "import pandas as pd \n",
    "import matplotlib.pyplot as plt \n",
    "from sklearn.linear_model import LogisticRegression\n",
    "from sklearn.model_selection import train_test_split\n",
    "from sklearn.metrics import classification_report, confusion_matrix, r2_score, mean_absolute_error, mean_squared_error\n",
    "from icecream import ic\n",
    "\n",
    "\n",
    "# Appel à utils.py à la racine\n",
    "import os, sys\n",
    "sys.path.append(os.path.abspath(\"..\"))\n",
    "from utils import execute_model_and_save_score"
   ]
  },
  {
   "cell_type": "code",
   "execution_count": 2,
   "metadata": {},
   "outputs": [
    {
     "name": "stdout",
     "output_type": "stream",
     "text": [
      "✅ Accuracy : 0.7249\n",
      "📊 Rapport de classification :\n",
      "               precision    recall  f1-score   support\n",
      "\n",
      "           0       0.71      0.77      0.74      6949\n",
      "           1       0.74      0.67      0.71      6764\n",
      "\n",
      "    accuracy                           0.72     13713\n",
      "   macro avg       0.73      0.72      0.72     13713\n",
      "weighted avg       0.73      0.72      0.72     13713\n",
      "\n",
      "🧱 Matrice de confusion :\n",
      " [[5376 1573]\n",
      " [2199 4565]]\n",
      "✅ Résultat enregistré dans ../results.csv\n"
     ]
    },
    {
     "name": "stderr",
     "output_type": "stream",
     "text": [
      "c:\\Users\\coule\\Documents\\projets\\cardio-vasc-risks\\.venv\\Lib\\site-packages\\sklearn\\linear_model\\_logistic.py:465: ConvergenceWarning: lbfgs failed to converge (status=1):\n",
      "STOP: TOTAL NO. OF ITERATIONS REACHED LIMIT.\n",
      "\n",
      "Increase the number of iterations (max_iter) or scale the data as shown in:\n",
      "    https://scikit-learn.org/stable/modules/preprocessing.html\n",
      "Please also refer to the documentation for alternative solver options:\n",
      "    https://scikit-learn.org/stable/modules/linear_model.html#logistic-regression\n",
      "  n_iter_i = _check_optimize_result(\n"
     ]
    }
   ],
   "source": [
    "DF_PATH =\"../data/cardio_optimized.csv\"\n",
    "\n",
    "df = pd.read_csv(DF_PATH, sep=\";\")\n",
    "X = df.drop(columns=[\"cardio\"])\n",
    "y = df[\"cardio\"]\n",
    "execute_model_and_save_score(X, y)"
   ]
  }
 ],
 "metadata": {
  "kernelspec": {
   "display_name": ".venv",
   "language": "python",
   "name": "python3"
  },
  "language_info": {
   "codemirror_mode": {
    "name": "ipython",
    "version": 3
   },
   "file_extension": ".py",
   "mimetype": "text/x-python",
   "name": "python",
   "nbconvert_exporter": "python",
   "pygments_lexer": "ipython3",
   "version": "3.12.4"
  }
 },
 "nbformat": 4,
 "nbformat_minor": 2
}
