{
 "cells": [
  {
   "cell_type": "code",
   "execution_count": 1,
   "metadata": {},
   "outputs": [],
   "source": [
    "# --- Initialisation ---\n",
    "import os\n",
    "import sys\n",
    "import pandas as pd\n",
    "\n",
    "# --- Accès au dossier contenant utils.py ---\n",
    "sys.path.append(os.path.abspath(\"..\"))\n",
    "from utils import execute_model_and_save_score\n",
    "\n",
    "# --- Chargement des données ---\n",
    "DF_PATH = \"../data/cardio_light.csv\"\n",
    "df = pd.read_csv(DF_PATH, sep=\";\")\n",
    "\n",
    "# --- Séparation des features et de la cible ---\n",
    "X = df.drop(columns=[\"cardio\"])\n",
    "y = df[\"cardio\"]"
   ]
  },
  {
   "cell_type": "code",
   "execution_count": 8,
   "metadata": {},
   "outputs": [
    {
     "name": "stderr",
     "output_type": "stream",
     "text": [
      "/Users/brunocoulet/Documents/projets/cardio-vasc-risks/.venv/lib/python3.12/site-packages/scipy/optimize/_linesearch.py:312: LineSearchWarning: The line search algorithm did not converge\n",
      "  alpha_star, phi_star, old_fval, derphi_star = scalar_search_wolfe2(\n",
      "/Users/brunocoulet/Documents/projets/cardio-vasc-risks/.venv/lib/python3.12/site-packages/sklearn/utils/optimize.py:100: LineSearchWarning: The line search algorithm did not converge\n",
      "  ret = line_search_wolfe2(\n"
     ]
    },
    {
     "name": "stdout",
     "output_type": "stream",
     "text": [
      "✅ Accuracy : 0.7233\n",
      "📊 Rapport de classification :\n",
      "               precision    recall  f1-score   support\n",
      "\n",
      "           0       0.71      0.76      0.74      6949\n",
      "           1       0.73      0.69      0.71      6764\n",
      "\n",
      "    accuracy                           0.72     13713\n",
      "   macro avg       0.72      0.72      0.72     13713\n",
      "weighted avg       0.72      0.72      0.72     13713\n",
      "\n",
      "🧱 Matrice de confusion :\n",
      " [[5273 1676]\n",
      " [2118 4646]]\n",
      "Résultat enregistré dans ../results.csv\n"
     ]
    }
   ],
   "source": [
    "\n",
    "# ============== Exécution du modèle  ================\n",
    "\n",
    "# execute_model_and_save_score(X, y)\n",
    "# execute_model_and_save_score(X, y, max_iter=1000, penalty=\"l2\", solver=\"lbfgs\")\n",
    "# execute_model_and_save_score(X, y, max_iter=2000, penalty=\"l2\", solver=\"lbfgs\")\n",
    "# execute_model_and_save_score(X, y, max_iter=2000, solver=\"lbfgs\")\n",
    "# execute_model_and_save_score(X, y, df_path=DF_PATH, max_iter=2000)\n",
    "# execute_model_and_save_score(X, y, df_path=DF_PATH, penalty=\"l2\", solver=\"lbfgs\", max_iter=2000)\n",
    "# execute_model_and_save_score(X, y, df_path=DF_PATH, penalty='l1', solver='liblinear')\n",
    "# execute_model_and_save_score(X, y, df_path=DF_PATH, penalty='l1', solver='saga')\n",
    "# execute_model_and_save_score(X, y, df_path=DF_PATH, penalty='l2', solver='newton-cg')\n",
    "execute_model_and_save_score(X, y, max_iter=2000, df_path=DF_PATH, penalty='l2', solver='newton-cg')"
   ]
  }
 ],
 "metadata": {
  "kernelspec": {
   "display_name": ".venv",
   "language": "python",
   "name": "python3"
  },
  "language_info": {
   "codemirror_mode": {
    "name": "ipython",
    "version": 3
   },
   "file_extension": ".py",
   "mimetype": "text/x-python",
   "name": "python",
   "nbconvert_exporter": "python",
   "pygments_lexer": "ipython3",
   "version": "3.12.10"
  }
 },
 "nbformat": 4,
 "nbformat_minor": 2
}
