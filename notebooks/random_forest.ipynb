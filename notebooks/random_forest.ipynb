{
 "cells": [
  {
   "cell_type": "code",
   "execution_count": 9,
   "metadata": {},
   "outputs": [],
   "source": [
    "import numpy as np\n",
    "import seaborn as sns \n",
    "import pandas as pd \n",
    "import matplotlib.pyplot as plt \n",
    "from sklearn.ensemble import RandomForestClassifier\n",
    "from sklearn.model_selection import train_test_split\n",
    "from sklearn.metrics import classification_report, confusion_matrix, accuracy_score"
   ]
  },
  {
   "cell_type": "code",
   "execution_count": 10,
   "metadata": {},
   "outputs": [],
   "source": [
    "df = pd.read_csv(\"cardio_train_clean.csv\")"
   ]
  },
  {
   "cell_type": "markdown",
   "metadata": {},
   "source": [
    "## Meilleur model"
   ]
  },
  {
   "cell_type": "code",
   "execution_count": null,
   "metadata": {},
   "outputs": [
    {
     "name": "stdout",
     "output_type": "stream",
     "text": [
      "Accuracy: 0.7114416976591555\n",
      "Matrice de confusion:\n",
      " [[5017 1858]\n",
      " [2099 4739]]\n",
      "Rapport de classification:\n",
      "               precision    recall  f1-score   support\n",
      "\n",
      "           0       0.71      0.73      0.72      6875\n",
      "           1       0.72      0.69      0.71      6838\n",
      "\n",
      "    accuracy                           0.71     13713\n",
      "   macro avg       0.71      0.71      0.71     13713\n",
      "weighted avg       0.71      0.71      0.71     13713\n",
      "\n"
     ]
    }
   ],
   "source": [
    "df[\"age_year\"] = df[\"age\"] / 365\n",
    "X = df[[\"age_year\", \"gender\",\"height\",\"weight\",\"ap_hi\",\"ap_lo\",\"cholesterol\",\"gluc\",\"smoke\",\"alco\",\"active\"]] \n",
    "y = df[\"cardio\"] \n",
    "\n",
    "X_train, X_test, y_train, y_test = train_test_split(X, y, test_size=0.2)\n",
    "\n",
    "model = RandomForestClassifier(n_estimators=100)\n",
    "model.fit(X_train, y_train)\n",
    "y_pred = model.predict(X_test)\n",
    "\n",
    "print(\"Accuracy:\", accuracy_score(y_test, y_pred))\n",
    "print(\"Matrice de confusion:\\n\", confusion_matrix(y_test, y_pred))\n",
    "print(\"Rapport de classification:\\n\", classification_report(y_test, y_pred))\n"
   ]
  },
  {
   "cell_type": "markdown",
   "metadata": {},
   "source": [
    "## Model avec de nouvelles features"
   ]
  },
  {
   "cell_type": "code",
   "execution_count": 12,
   "metadata": {},
   "outputs": [],
   "source": [
    "df = pd.read_csv(\"cardio_new_features.csv\")"
   ]
  },
  {
   "cell_type": "code",
   "execution_count": 14,
   "metadata": {},
   "outputs": [
    {
     "name": "stdout",
     "output_type": "stream",
     "text": [
      "Accuracy: 0.6885437176401954\n",
      "Matrice de confusion:\n",
      " [[4849 2043]\n",
      " [2228 4593]]\n",
      "Rapport de classification:\n",
      "               precision    recall  f1-score   support\n",
      "\n",
      "           0       0.69      0.70      0.69      6892\n",
      "           1       0.69      0.67      0.68      6821\n",
      "\n",
      "    accuracy                           0.69     13713\n",
      "   macro avg       0.69      0.69      0.69     13713\n",
      "weighted avg       0.69      0.69      0.69     13713\n",
      "\n"
     ]
    }
   ],
   "source": [
    "X = df[['pulse_pressure', 'is_hypertensive', 'ap_hi', 'ap_lo', 'bmi', 'age',\"gluc\",\"smoke\",\"alco\",\"active\"]]\n",
    "Y = df['cardio']\n",
    "X.shape, Y.shape\n",
    "\n",
    "X_train, X_test, y_train, y_test = train_test_split(X, y, test_size=0.2)\n",
    "\n",
    "model = RandomForestClassifier(n_estimators=100)\n",
    "model.fit(X_train, y_train)\n",
    "y_pred = model.predict(X_test)\n",
    "\n",
    "print(\"Accuracy:\", accuracy_score(y_test, y_pred))\n",
    "print(\"Matrice de confusion:\\n\", confusion_matrix(y_test, y_pred))\n",
    "print(\"Rapport de classification:\\n\", classification_report(y_test, y_pred))"
   ]
  },
  {
   "cell_type": "markdown",
   "metadata": {},
   "source": [
    "Conclusion, la regression linéaire semble la plus adapté avec les données que nous détenons."
   ]
  }
 ],
 "metadata": {
  "kernelspec": {
   "display_name": ".venv",
   "language": "python",
   "name": "python3"
  },
  "language_info": {
   "codemirror_mode": {
    "name": "ipython",
    "version": 3
   },
   "file_extension": ".py",
   "mimetype": "text/x-python",
   "name": "python",
   "nbconvert_exporter": "python",
   "pygments_lexer": "ipython3",
   "version": "3.12.4"
  }
 },
 "nbformat": 4,
 "nbformat_minor": 2
}
