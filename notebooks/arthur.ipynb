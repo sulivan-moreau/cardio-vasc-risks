{
 "cells": [
  {
   "cell_type": "code",
   "execution_count": 35,
   "metadata": {},
   "outputs": [],
   "source": [
    "import pandas as pd\n",
    "from sklearn.linear_model import LogisticRegression\n",
    "from sklearn.model_selection import train_test_split\n",
    "import numpy as np"
   ]
  },
  {
   "cell_type": "markdown",
   "metadata": {},
   "source": [
    "Donnez une prédiction pour si Arthur 53 ans, fumeur, sportif, 175\n",
    "cm, 85 kg, avec un taux de cholestérol au dessus de la normal et\n",
    "un taux de glucose normal, une tension artérielle systolique dans\n",
    "la moyenne et une pression sanguine diastolique correspondant\n",
    "à la moyenne du 3e quartile (50%-75%) du jeu de données, est un\n",
    "sujet à risques cardio-vasculaire."
   ]
  },
  {
   "cell_type": "markdown",
   "metadata": {},
   "source": [
    "id;age;cholesterol;gluc;smoke;alco;active;cardio;female;male;imc;pressure"
   ]
  },
  {
   "cell_type": "code",
   "execution_count": 9,
   "metadata": {},
   "outputs": [],
   "source": [
    "DF_PATH =\"../data/cardio_light_std.csv\"\n",
    "\n",
    "df = pd.read_csv(DF_PATH, sep=\";\", index_col=\"id\")\n",
    "# X = df.drop(columns=[\"cardio\"])\n",
    "# y = df[\"cardio\"]\n",
    "\n",
    "# X_train, X_test, y_train, y_test = train_test_split(X, y, test_size=0.2, random_state=42)\n",
    "# model = LogisticRegression(max_iter=1000)\n",
    "# model.fit(X_train, y_train)\n",
    "\n",
    "# y_pred = model.predict(X_test)\n"
   ]
  },
  {
   "cell_type": "markdown",
   "metadata": {},
   "source": [
    "Pour ajouter Arthur à prédire, il faut calculer l'IMC ainsi que la pression."
   ]
  },
  {
   "cell_type": "markdown",
   "metadata": {},
   "source": [
    "## IMC\n",
    "\n",
    "### Indice de Masse Corporelle\n",
    "\n",
    "Calcul de l'IMC :\n",
    "\n",
    "$$\n",
    "IMC = \\frac{\\text{poids (kg)}}{\\left( \\frac{\\text{taille (cm)}}{100} \\right)^2}\n",
    "$$\n",
    "\n",
    "​\n",
    "Catégorisation médicale simplifiée :\n",
    "\n",
    "|IMC\t|Catégorie|\tValeur|\n",
    "|-|-|-|\n",
    "|< 25\t|Normal\t|1|\n",
    "|25 ≤ IMC < 30\t|Surpoids |\t2|\n",
    "|≥ 30\t|Obésité |\t3|"
   ]
  },
  {
   "cell_type": "markdown",
   "metadata": {},
   "source": [
    "Arthur fait 85 kg et mesure 175cm."
   ]
  },
  {
   "cell_type": "code",
   "execution_count": 12,
   "metadata": {},
   "outputs": [
    {
     "name": "stdout",
     "output_type": "stream",
     "text": [
      "imc d'arthur :  27.755102040816325\n",
      "catégorie IMC d'arthur :  2\n"
     ]
    }
   ],
   "source": [
    "arthur_imc = 85 / (175/100)**2\n",
    "print(\"imc d'arthur : \", arthur_imc)\n",
    "\n",
    "if arthur_imc < 25 :\n",
    "    arthur_imc = 1\n",
    "elif 25 <= arthur_imc < 30:  # Correction de la syntaxe\n",
    "    arthur_imc = 2\n",
    "else :\n",
    "    arthur_imc = 3\n",
    "\n",
    "print(\"catégorie IMC d'arthur : \", arthur_imc)"
   ]
  },
  {
   "cell_type": "markdown",
   "metadata": {},
   "source": [
    "---\n",
    "## pressure\n",
    "\n",
    "### Tension artérielle\n",
    "\n",
    "| Diastolique (`ap_lo`) | Systolique (`ap_hi`) | Interprétation        | Code |\n",
    "| -------------------- | --------------------- | --------------------- | ---- |\n",
    "| < 80                | < 120                | Normale               | 1    |\n",
    "| 80–89             | 120–139               | Élevée (à surveiller) | 2    |\n",
    "| ≥ 90                | ≥ 140                  | Hypertension          | 3    |\n",
    "\n",
    "\n",
    "Si la systolique ou la diastolique dépasse un seuil, on prend la catégorie la plus élevée."
   ]
  },
  {
   "cell_type": "markdown",
   "metadata": {},
   "source": [
    "Arthur possède une tension artérielle systolique dans\n",
    "la moyenne et une pression sanguine diastolique correspondant\n",
    "à la moyenne du 3e quartile (50%-75%) du jeu de données"
   ]
  },
  {
   "cell_type": "code",
   "execution_count": 19,
   "metadata": {},
   "outputs": [
    {
     "name": "stdout",
     "output_type": "stream",
     "text": [
      "ap_lo : 90.0 ap_hi : 140.0\n",
      "pressure d'Arthur : 3\n"
     ]
    }
   ],
   "source": [
    "DF_PATH = \"../data/cardio_optimized.csv\"\n",
    "df = pd.read_csv(DF_PATH, sep=\";\", index_col=\"id\")\n",
    "\n",
    "# Obtenir les valeurs du 75e percentile\n",
    "arthur_ap_lo = df['ap_lo'].quantile(0.75)\n",
    "arthur_ap_hi = df['ap_hi'].quantile(0.75)\n",
    "\n",
    "# Classifier la pression\n",
    "def classifier_pressure(row):\n",
    "    if row['ap_hi'] < 120 and row['ap_lo'] < 80:\n",
    "        return 1  # Normale\n",
    "    elif row['ap_hi'] < 140 and row['ap_lo'] < 90:\n",
    "        return 2  # À surveiller\n",
    "    else:\n",
    "        return 3  # Hypertension\n",
    "\n",
    "# Appliquer la classification pour Arthur\n",
    "arthur_pressure = classifier_pressure({'ap_hi': arthur_ap_hi, 'ap_lo': arthur_ap_lo})\n",
    "\n",
    "print(\"ap_lo :\", arthur_ap_lo, \"ap_hi :\", arthur_ap_hi)\n",
    "print(\"pressure d'Arthur :\", arthur_pressure)"
   ]
  },
  {
   "cell_type": "code",
   "execution_count": 58,
   "metadata": {},
   "outputs": [
    {
     "name": "stdout",
     "output_type": "stream",
     "text": [
      "Shape de arthur_array : (1, 10)\n"
     ]
    }
   ],
   "source": [
    "arthur_data = {\n",
    "    'age': [53],\n",
    "    'cholesterol': [1], # Au-dessus de la normale\n",
    "    'gluc': [0],        # Normal\n",
    "    'smoke': [1],       # Fumeur\n",
    "    'alco': [0],        # Non alcool\n",
    "    'active': [1],      # Sportif\n",
    "    'female': [0],      \n",
    "    'male': [1],        # Homme\n",
    "    'imc': [arthur_imc],     \n",
    "    'pressure': [arthur_pressure]     \n",
    "}\n",
    "arthur = pd.DataFrame(arthur_data)\n",
    "\n",
    "print(\"Shape de arthur_array :\", arthur.shape)"
   ]
  },
  {
   "cell_type": "code",
   "execution_count": 59,
   "metadata": {},
   "outputs": [
    {
     "name": "stdout",
     "output_type": "stream",
     "text": [
      "<class 'pandas.core.frame.DataFrame'>\n",
      "Index: 68562 entries, 0 to 99999\n",
      "Data columns (total 11 columns):\n",
      " #   Column       Non-Null Count  Dtype  \n",
      "---  ------       --------------  -----  \n",
      " 0   age          68562 non-null  float64\n",
      " 1   cholesterol  68562 non-null  int64  \n",
      " 2   gluc         68562 non-null  int64  \n",
      " 3   smoke        68562 non-null  int64  \n",
      " 4   alco         68562 non-null  int64  \n",
      " 5   active       68562 non-null  int64  \n",
      " 6   cardio       68562 non-null  int64  \n",
      " 7   female       68562 non-null  float64\n",
      " 8   male         68562 non-null  float64\n",
      " 9   imc          68562 non-null  int64  \n",
      " 10  pressure     68562 non-null  int64  \n",
      "dtypes: float64(3), int64(8)\n",
      "memory usage: 6.3 MB\n"
     ]
    }
   ],
   "source": [
    "DF_PATH =\"../data/cardio_light_std.csv\"\n",
    "\n",
    "df = pd.read_csv(DF_PATH, sep=\";\", index_col=\"id\")\n",
    "df.info()"
   ]
  },
  {
   "cell_type": "code",
   "execution_count": null,
   "metadata": {},
   "outputs": [
    {
     "data": {
      "text/plain": [
       "(np.int64(1), array([1.]))"
      ]
     },
     "execution_count": 62,
     "metadata": {},
     "output_type": "execute_result"
    }
   ],
   "source": [
    "X = df.drop(columns=[\"cardio\"])\n",
    "y = df[\"cardio\"]\n",
    "\n",
    "model = LogisticRegression(max_iter=1000, C= 200, penalty= 'l2', solver= 'liblinear')\n",
    "model.fit(X, y)\n",
    "\n",
    "\n",
    "y_pred = model.predict(arthur)\n",
    "probability = model.predict_proba(arthur)[:, 1]\n",
    "\n",
    "y_pred[0], probability"
   ]
  },
  {
   "cell_type": "markdown",
   "metadata": {},
   "source": [
    "Pour rappel, voici les métrics du model utilisé : \n",
    "\n",
    "| Metrics | Scoring|\n",
    "| :-:|:-: |\n",
    "|Accuracy | 0.72 |\n",
    "| Précision | 0.72 |\n",
    "|Recall | 0.72 |\n",
    "|Recall classe 1 | 0.69 |\n",
    "| F1 Score | 0.72 |\n"
   ]
  }
 ],
 "metadata": {
  "kernelspec": {
   "display_name": ".venv",
   "language": "python",
   "name": "python3"
  },
  "language_info": {
   "codemirror_mode": {
    "name": "ipython",
    "version": 3
   },
   "file_extension": ".py",
   "mimetype": "text/x-python",
   "name": "python",
   "nbconvert_exporter": "python",
   "pygments_lexer": "ipython3",
   "version": "3.12.3"
  }
 },
 "nbformat": 4,
 "nbformat_minor": 2
}
