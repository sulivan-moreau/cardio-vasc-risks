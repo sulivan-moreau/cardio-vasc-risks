{
 "cells": [
  {
   "cell_type": "code",
   "execution_count": 2,
   "metadata": {},
   "outputs": [],
   "source": [
    "import numpy as np\n",
    "import seaborn as sns \n",
    "import pandas as pd \n",
    "import matplotlib.pyplot as plt \n",
    "from sklearn.preprocessing import StandardScaler, OneHotEncoder"
   ]
  },
  {
   "cell_type": "code",
   "execution_count": 3,
   "metadata": {},
   "outputs": [
    {
     "name": "stdout",
     "output_type": "stream",
     "text": [
      "<class 'pandas.core.frame.DataFrame'>\n",
      "Index: 68562 entries, 0 to 99999\n",
      "Data columns (total 12 columns):\n",
      " #   Column       Non-Null Count  Dtype  \n",
      "---  ------       --------------  -----  \n",
      " 0   age          68562 non-null  float64\n",
      " 1   gender       68562 non-null  int64  \n",
      " 2   height       68562 non-null  int64  \n",
      " 3   weight       68562 non-null  float64\n",
      " 4   ap_hi        68562 non-null  int64  \n",
      " 5   ap_lo        68562 non-null  int64  \n",
      " 6   cholesterol  68562 non-null  int64  \n",
      " 7   gluc         68562 non-null  int64  \n",
      " 8   smoke        68562 non-null  int64  \n",
      " 9   alco         68562 non-null  int64  \n",
      " 10  active       68562 non-null  int64  \n",
      " 11  cardio       68562 non-null  int64  \n",
      "dtypes: float64(2), int64(10)\n",
      "memory usage: 6.8 MB\n"
     ]
    },
    {
     "data": {
      "text/html": [
       "<div>\n",
       "<style scoped>\n",
       "    .dataframe tbody tr th:only-of-type {\n",
       "        vertical-align: middle;\n",
       "    }\n",
       "\n",
       "    .dataframe tbody tr th {\n",
       "        vertical-align: top;\n",
       "    }\n",
       "\n",
       "    .dataframe thead th {\n",
       "        text-align: right;\n",
       "    }\n",
       "</style>\n",
       "<table border=\"1\" class=\"dataframe\">\n",
       "  <thead>\n",
       "    <tr style=\"text-align: right;\">\n",
       "      <th></th>\n",
       "      <th>age</th>\n",
       "      <th>gender</th>\n",
       "      <th>height</th>\n",
       "      <th>weight</th>\n",
       "      <th>ap_hi</th>\n",
       "      <th>ap_lo</th>\n",
       "      <th>cholesterol</th>\n",
       "      <th>gluc</th>\n",
       "      <th>smoke</th>\n",
       "      <th>alco</th>\n",
       "      <th>active</th>\n",
       "      <th>cardio</th>\n",
       "    </tr>\n",
       "    <tr>\n",
       "      <th>id</th>\n",
       "      <th></th>\n",
       "      <th></th>\n",
       "      <th></th>\n",
       "      <th></th>\n",
       "      <th></th>\n",
       "      <th></th>\n",
       "      <th></th>\n",
       "      <th></th>\n",
       "      <th></th>\n",
       "      <th></th>\n",
       "      <th></th>\n",
       "      <th></th>\n",
       "    </tr>\n",
       "  </thead>\n",
       "  <tbody>\n",
       "    <tr>\n",
       "      <th>0</th>\n",
       "      <td>50.391781</td>\n",
       "      <td>2</td>\n",
       "      <td>168</td>\n",
       "      <td>62.0</td>\n",
       "      <td>110</td>\n",
       "      <td>80</td>\n",
       "      <td>1</td>\n",
       "      <td>1</td>\n",
       "      <td>0</td>\n",
       "      <td>0</td>\n",
       "      <td>1</td>\n",
       "      <td>0</td>\n",
       "    </tr>\n",
       "    <tr>\n",
       "      <th>1</th>\n",
       "      <td>55.419178</td>\n",
       "      <td>1</td>\n",
       "      <td>156</td>\n",
       "      <td>85.0</td>\n",
       "      <td>140</td>\n",
       "      <td>90</td>\n",
       "      <td>3</td>\n",
       "      <td>1</td>\n",
       "      <td>0</td>\n",
       "      <td>0</td>\n",
       "      <td>1</td>\n",
       "      <td>1</td>\n",
       "    </tr>\n",
       "    <tr>\n",
       "      <th>2</th>\n",
       "      <td>51.663014</td>\n",
       "      <td>1</td>\n",
       "      <td>165</td>\n",
       "      <td>64.0</td>\n",
       "      <td>130</td>\n",
       "      <td>70</td>\n",
       "      <td>3</td>\n",
       "      <td>1</td>\n",
       "      <td>0</td>\n",
       "      <td>0</td>\n",
       "      <td>0</td>\n",
       "      <td>1</td>\n",
       "    </tr>\n",
       "    <tr>\n",
       "      <th>3</th>\n",
       "      <td>48.282192</td>\n",
       "      <td>2</td>\n",
       "      <td>169</td>\n",
       "      <td>82.0</td>\n",
       "      <td>150</td>\n",
       "      <td>100</td>\n",
       "      <td>1</td>\n",
       "      <td>1</td>\n",
       "      <td>0</td>\n",
       "      <td>0</td>\n",
       "      <td>1</td>\n",
       "      <td>1</td>\n",
       "    </tr>\n",
       "    <tr>\n",
       "      <th>4</th>\n",
       "      <td>47.873973</td>\n",
       "      <td>1</td>\n",
       "      <td>156</td>\n",
       "      <td>56.0</td>\n",
       "      <td>100</td>\n",
       "      <td>60</td>\n",
       "      <td>1</td>\n",
       "      <td>1</td>\n",
       "      <td>0</td>\n",
       "      <td>0</td>\n",
       "      <td>0</td>\n",
       "      <td>0</td>\n",
       "    </tr>\n",
       "  </tbody>\n",
       "</table>\n",
       "</div>"
      ],
      "text/plain": [
       "          age  gender  height  weight  ap_hi  ap_lo  cholesterol  gluc  smoke  \\\n",
       "id                                                                              \n",
       "0   50.391781       2     168    62.0    110     80            1     1      0   \n",
       "1   55.419178       1     156    85.0    140     90            3     1      0   \n",
       "2   51.663014       1     165    64.0    130     70            3     1      0   \n",
       "3   48.282192       2     169    82.0    150    100            1     1      0   \n",
       "4   47.873973       1     156    56.0    100     60            1     1      0   \n",
       "\n",
       "    alco  active  cardio  \n",
       "id                        \n",
       "0      0       1       0  \n",
       "1      0       1       1  \n",
       "2      0       0       1  \n",
       "3      0       1       1  \n",
       "4      0       0       0  "
      ]
     },
     "execution_count": 3,
     "metadata": {},
     "output_type": "execute_result"
    }
   ],
   "source": [
    "df = pd.read_csv(\"../data/cardio_train_clean.csv\", sep = \";\", index_col=\"id\")\n",
    "df.info()\n",
    "df.shape\n",
    "df.head()"
   ]
  },
  {
   "cell_type": "code",
   "execution_count": 4,
   "metadata": {},
   "outputs": [],
   "source": [
    "# Stocker les index des positifs (smoke ou alco)\n",
    "positive_idx = df[(df['smoke'] == 1) | (df['alco'] == 1)].index"
   ]
  },
  {
   "cell_type": "markdown",
   "metadata": {},
   "source": [
    "---\n",
    "\n",
    "### Activité physique\n",
    "\n",
    "|Variable|interpretation| valeur élevé =|\n",
    "|:-|:-|:-|\n",
    "| CHOLESTEROL | 1 : normal<br> 2 : supérieur à la normale<br> 3 : largement supérieur à la normale| incidence négative|\n",
    "| GLUCOSE     | 1 : normal<br> 2 : supérieur à la normale<br> 3 : largement supérieur à la normale| incidence négative|\n",
    "| SMOKE       | 0 : non fumeur<br>1 : fumeur| incidence négative|\n",
    "| ALCOHOL     | 0 : non consomateur<br> 1 : consomateur| incidence négative|\n",
    "| PHYSICAL_ACTIVITY | 0 : non, 1 : oui| incidence positive|\n",
    "\n",
    "\n",
    "\n",
    "Pour l'activité physique, la logique est inversée<br>\n",
    "Nous alons donc intervertir les 0 et 1 de `active` pour respecter la même logique que sur les autre variables."
   ]
  },
  {
   "cell_type": "code",
   "execution_count": 5,
   "metadata": {},
   "outputs": [],
   "source": [
    "# Inversionde 1 et 0 de la variable 'active'\n",
    "df['active'] = 1 - df['active']"
   ]
  },
  {
   "cell_type": "markdown",
   "metadata": {},
   "source": [
    "----\n",
    "## gender\n",
    "2 = homme<br>\n",
    "1 = femme<br>\n",
    "Mais il s'agit d'une donnée Cardinale, pas ordinale><br>\n",
    "Nous utilisons OneHotEncoder pour remplacer `gender` par `male`et `female`."
   ]
  },
  {
   "cell_type": "code",
   "execution_count": 6,
   "metadata": {},
   "outputs": [],
   "source": [
    "encoder = OneHotEncoder(sparse_output=False)\n",
    "\n",
    "# Encode la colonne 'gender'\n",
    "gender_encoded = encoder.fit_transform(df[['gender']])\n",
    "\n",
    "# Corriger l’accès aux catégories\n",
    "categories = encoder.categories_[0]  # Extraire la seule liste\n",
    "column_names = ['female' if val == 1 else 'male' for val in categories]\n",
    "\n",
    "# Créer un DataFrame avec les nouvelles colonnes\n",
    "gender_df = pd.DataFrame(gender_encoded, columns=column_names, index=df.index)\n",
    "\n",
    "# Remplacer la colonne d’origine\n",
    "df = pd.concat([df.drop(columns='gender'), gender_df], axis=1)"
   ]
  },
  {
   "cell_type": "markdown",
   "metadata": {},
   "source": [
    "---\n",
    "## IMC\n",
    "\n",
    "### Indice de Masse Corporelle\n",
    "\n",
    "Calcul de l'IMC :\n",
    "\n",
    "$$\n",
    "IMC = \\frac{\\text{poids (kg)}}{\\left( \\frac{\\text{taille (cm)}}{100} \\right)^2}\n",
    "$$\n",
    "\n",
    "​\n",
    "Catégorisation médicale simplifiée :\n",
    "\n",
    "|IMC\t|Catégorie|\tValeur|\n",
    "|-|-|-|\n",
    "|< 25\t|Normal\t|1|\n",
    "|25 ≤ IMC < 30\t|Surpoids |\t2|\n",
    "|≥ 30\t|Obésité |\t3|"
   ]
  },
  {
   "cell_type": "code",
   "execution_count": 7,
   "metadata": {},
   "outputs": [],
   "source": [
    "# Calcul de l'IMC\n",
    "df['imc'] = df['weight'] / ((df['height'] / 100) ** 2)\n",
    "\n",
    "# Création de la variable catégorielle\n",
    "def categoriser_imc(imc):\n",
    "    if imc < 25:\n",
    "        return 1  # Normal\n",
    "    elif imc < 30:\n",
    "        return 2  # Supérieur à la normale\n",
    "    else:\n",
    "        return 3  # Très supérieur à la normale\n",
    "\n",
    "df['imc'] = df['imc'].apply(categoriser_imc)\n"
   ]
  },
  {
   "cell_type": "markdown",
   "metadata": {},
   "source": [
    "---\n",
    "## pressure\n",
    "\n",
    "### Tension artérielle\n",
    "\n",
    "| Diastolique (`ap_lo`) | Systolique (`ap_hi`) | Interprétation        | Code |\n",
    "| -------------------- | --------------------- | --------------------- | ---- |\n",
    "| < 80                | < 120                | Normale               | 1    |\n",
    "| 80–89             | 120–139               | Élevée (à surveiller) | 2    |\n",
    "| ≥ 90                | ≥ 140                  | Hypertension          | 3    |\n",
    "\n",
    "\n",
    "Si la systolique ou la diastolique dépasse un seuil, on prend la catégorie la plus élevée."
   ]
  },
  {
   "cell_type": "code",
   "execution_count": 8,
   "metadata": {},
   "outputs": [],
   "source": [
    "def classifier_pressure(row):\n",
    "\n",
    "    if row['ap_hi'] < 120 and row['ap_lo']< 80:\n",
    "        return 1  # Normal\n",
    "    elif row['ap_hi'] < 140 and row['ap_lo'] < 90:\n",
    "        return 2  # A surveiller\n",
    "    else:\n",
    "        return 3  # Hypertension\n",
    "\n",
    "df['pressure'] = df.apply(classifier_pressure, axis=1)\n"
   ]
  },
  {
   "cell_type": "markdown",
   "metadata": {},
   "source": [
    "## Autres variables créées"
   ]
  },
  {
   "cell_type": "code",
   "execution_count": 9,
   "metadata": {},
   "outputs": [
    {
     "data": {
      "text/plain": [
       "risk_behavior\n",
       "0    60658\n",
       "1     6090\n",
       "2     1814\n",
       "Name: count, dtype: int64"
      ]
     },
     "execution_count": 9,
     "metadata": {},
     "output_type": "execute_result"
    }
   ],
   "source": [
    "df['risk_behavior'] = df['smoke'] + df['alco']\n",
    "df['risk_behavior'].value_counts()"
   ]
  },
  {
   "cell_type": "code",
   "execution_count": 10,
   "metadata": {},
   "outputs": [
    {
     "data": {
      "text/plain": [
       "age_risk\n",
       "0.000000      60658\n",
       "49.764384         7\n",
       "56.104110         6\n",
       "55.975342         5\n",
       "55.391781         5\n",
       "              ...  \n",
       "57.961644         1\n",
       "117.660274        1\n",
       "79.446575         1\n",
       "56.512329         1\n",
       "49.665753         1\n",
       "Name: count, Length: 5469, dtype: int64"
      ]
     },
     "execution_count": 10,
     "metadata": {},
     "output_type": "execute_result"
    }
   ],
   "source": [
    "df['age_risk'] =  df['age'] * df['risk_behavior']\n",
    "df['age_risk'].value_counts()"
   ]
  },
  {
   "cell_type": "code",
   "execution_count": 11,
   "metadata": {},
   "outputs": [
    {
     "data": {
      "text/plain": [
       "imc_pressure\n",
       "2    18315\n",
       "6    16042\n",
       "4    12885\n",
       "9     9091\n",
       "3     7229\n",
       "1     5000\n",
       "Name: count, dtype: int64"
      ]
     },
     "execution_count": 11,
     "metadata": {},
     "output_type": "execute_result"
    }
   ],
   "source": [
    "df['imc_pressure'] =  df['imc'] * df['pressure']\n",
    "df['imc_pressure'].value_counts()"
   ]
  },
  {
   "cell_type": "code",
   "execution_count": 12,
   "metadata": {},
   "outputs": [
    {
     "data": {
      "text/plain": [
       "chole_gluc\n",
       "1    47760\n",
       "2     8742\n",
       "3     5435\n",
       "9     3389\n",
       "4     2365\n",
       "6      871\n",
       "Name: count, dtype: int64"
      ]
     },
     "execution_count": 12,
     "metadata": {},
     "output_type": "execute_result"
    }
   ],
   "source": [
    "df['chole_gluc'] =  df['cholesterol'] * df['gluc']\n",
    "df['chole_gluc'].value_counts()"
   ]
  },
  {
   "cell_type": "markdown",
   "metadata": {},
   "source": [
    "---\n",
    "## Export du csv optimisé"
   ]
  },
  {
   "cell_type": "code",
   "execution_count": 13,
   "metadata": {},
   "outputs": [],
   "source": [
    "# df.to_csv('../data/cardio_optimized_2.csv', sep = \";\")"
   ]
  },
  {
   "cell_type": "markdown",
   "metadata": {},
   "source": [
    "---\n",
    "### csv optimisé et allegé\n",
    "\n",
    "suppression de :<br>\n",
    "height, weight (remplacé par IMC)<br>\n",
    "ap_lo, ap_hi (remplacé par pressure)\n"
   ]
  },
  {
   "cell_type": "code",
   "execution_count": 14,
   "metadata": {},
   "outputs": [],
   "source": [
    "df = df.drop(columns=['height', 'weight', 'ap_lo', 'ap_hi', 'cholesterol', 'gluc', 'alco', 'smoke'])"
   ]
  },
  {
   "cell_type": "markdown",
   "metadata": {},
   "source": [
    "\n",
    "### Export du csv optimisé et allegé\n"
   ]
  },
  {
   "cell_type": "code",
   "execution_count": 15,
   "metadata": {},
   "outputs": [],
   "source": [
    "# df.to_csv('../data/cardio_light_2.csv', sep = \";\")"
   ]
  },
  {
   "cell_type": "markdown",
   "metadata": {},
   "source": [
    "---\n",
    "### df_scaled\n",
    "#### Standardisation de age et age_risk"
   ]
  },
  {
   "cell_type": "code",
   "execution_count": 16,
   "metadata": {},
   "outputs": [],
   "source": [
    "# non_zero = df['age_risk'] != 0\n",
    "columns_to_scale = ['age','age_risk']\n",
    "scaler = StandardScaler()\n",
    "\n",
    "df_scaled = df.copy()\n",
    "df_scaled[columns_to_scale] = scaler.fit_transform(df_scaled[columns_to_scale])\n",
    "# df_scaled.loc[non_zero, 'age_risk'] = scaler.fit_transform(df.loc[non_zero, ['age_risk']])\n"
   ]
  },
  {
   "cell_type": "code",
   "execution_count": 17,
   "metadata": {},
   "outputs": [
    {
     "data": {
      "text/plain": [
       "age_risk\n",
       "-0.337109    60658\n",
       " 1.923118        7\n",
       " 2.211059        6\n",
       " 2.205211        5\n",
       " 2.178706        5\n",
       "             ...  \n",
       " 2.295426        1\n",
       " 5.006851        1\n",
       " 3.271240        1\n",
       " 2.229600        1\n",
       " 1.918638        1\n",
       "Name: count, Length: 5469, dtype: int64"
      ]
     },
     "execution_count": 17,
     "metadata": {},
     "output_type": "execute_result"
    }
   ],
   "source": [
    "df_scaled['age_risk'].value_counts()"
   ]
  },
  {
   "cell_type": "markdown",
   "metadata": {},
   "source": [
    "### Export du df standardisé"
   ]
  },
  {
   "cell_type": "code",
   "execution_count": 18,
   "metadata": {},
   "outputs": [],
   "source": [
    "# df.to_csv('../data/cardio_light_std.csv', sep = \";\")\n",
    "# df_scaled.to_csv('../data/cardio_prepro_light_std.csv', sep = \";\")"
   ]
  },
  {
   "cell_type": "markdown",
   "metadata": {},
   "source": [
    "---\n",
    "### df_scaled_light\n",
    "#### Deuxième supression de variables"
   ]
  },
  {
   "cell_type": "code",
   "execution_count": 19,
   "metadata": {},
   "outputs": [
    {
     "data": {
      "text/html": [
       "<div>\n",
       "<style scoped>\n",
       "    .dataframe tbody tr th:only-of-type {\n",
       "        vertical-align: middle;\n",
       "    }\n",
       "\n",
       "    .dataframe tbody tr th {\n",
       "        vertical-align: top;\n",
       "    }\n",
       "\n",
       "    .dataframe thead th {\n",
       "        text-align: right;\n",
       "    }\n",
       "</style>\n",
       "<table border=\"1\" class=\"dataframe\">\n",
       "  <thead>\n",
       "    <tr style=\"text-align: right;\">\n",
       "      <th></th>\n",
       "      <th>age</th>\n",
       "      <th>active</th>\n",
       "      <th>cardio</th>\n",
       "      <th>female</th>\n",
       "      <th>male</th>\n",
       "      <th>risk_behavior</th>\n",
       "      <th>imc_pressure</th>\n",
       "      <th>chole_gluc</th>\n",
       "    </tr>\n",
       "    <tr>\n",
       "      <th>id</th>\n",
       "      <th></th>\n",
       "      <th></th>\n",
       "      <th></th>\n",
       "      <th></th>\n",
       "      <th></th>\n",
       "      <th></th>\n",
       "      <th></th>\n",
       "      <th></th>\n",
       "    </tr>\n",
       "  </thead>\n",
       "  <tbody>\n",
       "    <tr>\n",
       "      <th>0</th>\n",
       "      <td>-0.434097</td>\n",
       "      <td>0</td>\n",
       "      <td>0</td>\n",
       "      <td>0.0</td>\n",
       "      <td>1.0</td>\n",
       "      <td>0</td>\n",
       "      <td>2</td>\n",
       "      <td>1</td>\n",
       "    </tr>\n",
       "    <tr>\n",
       "      <th>1</th>\n",
       "      <td>0.309546</td>\n",
       "      <td>0</td>\n",
       "      <td>1</td>\n",
       "      <td>1.0</td>\n",
       "      <td>0.0</td>\n",
       "      <td>0</td>\n",
       "      <td>9</td>\n",
       "      <td>3</td>\n",
       "    </tr>\n",
       "    <tr>\n",
       "      <th>2</th>\n",
       "      <td>-0.246058</td>\n",
       "      <td>1</td>\n",
       "      <td>1</td>\n",
       "      <td>1.0</td>\n",
       "      <td>0.0</td>\n",
       "      <td>0</td>\n",
       "      <td>2</td>\n",
       "      <td>3</td>\n",
       "    </tr>\n",
       "    <tr>\n",
       "      <th>3</th>\n",
       "      <td>-0.746143</td>\n",
       "      <td>0</td>\n",
       "      <td>1</td>\n",
       "      <td>0.0</td>\n",
       "      <td>1.0</td>\n",
       "      <td>0</td>\n",
       "      <td>6</td>\n",
       "      <td>1</td>\n",
       "    </tr>\n",
       "    <tr>\n",
       "      <th>4</th>\n",
       "      <td>-0.806526</td>\n",
       "      <td>1</td>\n",
       "      <td>0</td>\n",
       "      <td>1.0</td>\n",
       "      <td>0.0</td>\n",
       "      <td>0</td>\n",
       "      <td>1</td>\n",
       "      <td>1</td>\n",
       "    </tr>\n",
       "  </tbody>\n",
       "</table>\n",
       "</div>"
      ],
      "text/plain": [
       "         age  active  cardio  female  male  risk_behavior  imc_pressure  \\\n",
       "id                                                                        \n",
       "0  -0.434097       0       0     0.0   1.0              0             2   \n",
       "1   0.309546       0       1     1.0   0.0              0             9   \n",
       "2  -0.246058       1       1     1.0   0.0              0             2   \n",
       "3  -0.746143       0       1     0.0   1.0              0             6   \n",
       "4  -0.806526       1       0     1.0   0.0              0             1   \n",
       "\n",
       "    chole_gluc  \n",
       "id              \n",
       "0            1  \n",
       "1            3  \n",
       "2            3  \n",
       "3            1  \n",
       "4            1  "
      ]
     },
     "execution_count": 19,
     "metadata": {},
     "output_type": "execute_result"
    }
   ],
   "source": [
    "# Supression des variable redondantes\n",
    "df_scaled_light = df_scaled.drop(columns=['imc', 'pressure','age_risk'])\n",
    "df_scaled_light.head()"
   ]
  },
  {
   "cell_type": "markdown",
   "metadata": {},
   "source": [
    "---\n",
    "## equilibrage de smoke 0/1 et alco 0/1\n",
    "- comptage des observations qui ont smoke ou alco positive\n",
    "- **Undersampling** limitation à ce même nombre des observations qui ont smoke ou alco négative.\n",
    "\n",
    "**Objectif :** équilibrer les classes en training, tout en gardant trace des id d’origine pour pouvoir bien retrouver facilement les observations dans le test."
   ]
  },
  {
   "cell_type": "code",
   "execution_count": null,
   "metadata": {},
   "outputs": [],
   "source": [
    "# # 1. Extraire les positifs selon les index enregistrés\n",
    "# positifs = df_scaled_light.loc[positive_idx]\n",
    "\n",
    "# # 2. Définir les négatifs (les autres)\n",
    "# negatifs = df_scaled_light.drop(index=positive_idx)\n",
    "\n",
    "# # 3. Échantillonnage aléatoire de négatifs pour équilibrer\n",
    "# negatifs_sample = negatifs.sample(n=len(positifs), random_state=42)\n",
    "\n",
    "# # 4. Concaténer les deux groupes et mélanger\n",
    "# df_balanced = pd.concat([positifs, negatifs_sample]).sample(frac=1, random_state=42).reset_index(drop=True)"
   ]
  },
  {
   "cell_type": "code",
   "execution_count": null,
   "metadata": {},
   "outputs": [],
   "source": [
    "# df_scaled_light = DataFrame complet\n",
    "# index           = 'id'\n",
    "# cible           = 'cardio' \n",
    "\n",
    "# Index des positifs (classe minoritaire)\n",
    "positive_idx = df_scaled_light[df_scaled_light['cardio'] == 1].index\n",
    "\n",
    "# Extrait les positifs (training minoritaire)\n",
    "positifs = df_scaled_light.loc[positive_idx]\n",
    "\n",
    "# 4. Extraire les négatifs\n",
    "negatifs = df_scaled_light[df_scaled_light['cardio'] == 0]\n",
    "\n",
    "# Échantillonnage aléatoire des négatifs pour équilibrer\n",
    "negatifs_sample = negatifs.sample(n=len(positifs), random_state=42)\n",
    "\n",
    "# Concaténe positifs + négatifs échantillonnés, puis mélange\n",
    "df_balanced = pd.concat([positifs, negatifs_sample]).sample(frac=1, random_state=42)"
   ]
  },
  {
   "cell_type": "code",
   "execution_count": 27,
   "metadata": {},
   "outputs": [
    {
     "data": {
      "text/plain": [
       "cardio\n",
       "0    33934\n",
       "1    33934\n",
       "Name: count, dtype: int64"
      ]
     },
     "execution_count": 27,
     "metadata": {},
     "output_type": "execute_result"
    }
   ],
   "source": [
    "df_balanced['cardio'].value_counts()"
   ]
  },
  {
   "cell_type": "code",
   "execution_count": 21,
   "metadata": {},
   "outputs": [
    {
     "name": "stdout",
     "output_type": "stream",
     "text": [
      "id\n"
     ]
    }
   ],
   "source": [
    "\n",
    "# Vérifie que l’index est bien toujours 'id' :\n",
    "print(df_balanced.index.name)  # doit afficher 'id'"
   ]
  },
  {
   "cell_type": "code",
   "execution_count": null,
   "metadata": {},
   "outputs": [
    {
     "name": "stdout",
     "output_type": "stream",
     "text": [
      "True\n"
     ]
    }
   ],
   "source": [
    "print(df_balanced.index.is_unique)  # doit être True"
   ]
  },
  {
   "cell_type": "markdown",
   "metadata": {},
   "source": [
    "## Export de l’échantillon équilibré - Train"
   ]
  },
  {
   "cell_type": "code",
   "execution_count": 23,
   "metadata": {},
   "outputs": [],
   "source": [
    "df_balanced.to_csv('../data/cardio_balanced_train.csv', sep=';', index=True)"
   ]
  },
  {
   "cell_type": "markdown",
   "metadata": {},
   "source": [
    "## Export de l’échantillon équilibré - Test"
   ]
  },
  {
   "cell_type": "code",
   "execution_count": 24,
   "metadata": {},
   "outputs": [],
   "source": [
    "\n",
    "# 9. Pour le test, tu récupères les ids qui n’ont pas été pris dans l’échantillonnage\n",
    "test_idx = df_scaled_light.index.difference(df_balanced.index)\n",
    "df_test = df_scaled_light.loc[test_idx]\n",
    "\n",
    "# 10. Export ou utilisation du jeu de test avec les id conservés\n",
    "df_test.to_csv('../data/cardio_balanced_test.csv', sep=';', index=True)\n"
   ]
  },
  {
   "cell_type": "code",
   "execution_count": 25,
   "metadata": {},
   "outputs": [
    {
     "data": {
      "text/html": [
       "<div>\n",
       "<style scoped>\n",
       "    .dataframe tbody tr th:only-of-type {\n",
       "        vertical-align: middle;\n",
       "    }\n",
       "\n",
       "    .dataframe tbody tr th {\n",
       "        vertical-align: top;\n",
       "    }\n",
       "\n",
       "    .dataframe thead th {\n",
       "        text-align: right;\n",
       "    }\n",
       "</style>\n",
       "<table border=\"1\" class=\"dataframe\">\n",
       "  <thead>\n",
       "    <tr style=\"text-align: right;\">\n",
       "      <th></th>\n",
       "      <th>age</th>\n",
       "      <th>active</th>\n",
       "      <th>cardio</th>\n",
       "      <th>female</th>\n",
       "      <th>male</th>\n",
       "      <th>risk_behavior</th>\n",
       "      <th>imc_pressure</th>\n",
       "      <th>chole_gluc</th>\n",
       "    </tr>\n",
       "    <tr>\n",
       "      <th>id</th>\n",
       "      <th></th>\n",
       "      <th></th>\n",
       "      <th></th>\n",
       "      <th></th>\n",
       "      <th></th>\n",
       "      <th></th>\n",
       "      <th></th>\n",
       "      <th></th>\n",
       "    </tr>\n",
       "  </thead>\n",
       "  <tbody>\n",
       "    <tr>\n",
       "      <th>56633</th>\n",
       "      <td>-0.461654</td>\n",
       "      <td>0</td>\n",
       "      <td>0</td>\n",
       "      <td>1.0</td>\n",
       "      <td>0.0</td>\n",
       "      <td>0</td>\n",
       "      <td>1</td>\n",
       "      <td>1</td>\n",
       "    </tr>\n",
       "    <tr>\n",
       "      <th>81907</th>\n",
       "      <td>-0.217691</td>\n",
       "      <td>1</td>\n",
       "      <td>1</td>\n",
       "      <td>0.0</td>\n",
       "      <td>1.0</td>\n",
       "      <td>0</td>\n",
       "      <td>3</td>\n",
       "      <td>1</td>\n",
       "    </tr>\n",
       "    <tr>\n",
       "      <th>7463</th>\n",
       "      <td>0.075714</td>\n",
       "      <td>0</td>\n",
       "      <td>0</td>\n",
       "      <td>1.0</td>\n",
       "      <td>0.0</td>\n",
       "      <td>0</td>\n",
       "      <td>6</td>\n",
       "      <td>1</td>\n",
       "    </tr>\n",
       "    <tr>\n",
       "      <th>55907</th>\n",
       "      <td>-0.743711</td>\n",
       "      <td>0</td>\n",
       "      <td>1</td>\n",
       "      <td>0.0</td>\n",
       "      <td>1.0</td>\n",
       "      <td>0</td>\n",
       "      <td>2</td>\n",
       "      <td>1</td>\n",
       "    </tr>\n",
       "    <tr>\n",
       "      <th>54568</th>\n",
       "      <td>1.327545</td>\n",
       "      <td>0</td>\n",
       "      <td>1</td>\n",
       "      <td>1.0</td>\n",
       "      <td>0.0</td>\n",
       "      <td>0</td>\n",
       "      <td>9</td>\n",
       "      <td>1</td>\n",
       "    </tr>\n",
       "  </tbody>\n",
       "</table>\n",
       "</div>"
      ],
      "text/plain": [
       "            age  active  cardio  female  male  risk_behavior  imc_pressure  \\\n",
       "id                                                                           \n",
       "56633 -0.461654       0       0     1.0   0.0              0             1   \n",
       "81907 -0.217691       1       1     0.0   1.0              0             3   \n",
       "7463   0.075714       0       0     1.0   0.0              0             6   \n",
       "55907 -0.743711       0       1     0.0   1.0              0             2   \n",
       "54568  1.327545       0       1     1.0   0.0              0             9   \n",
       "\n",
       "       chole_gluc  \n",
       "id                 \n",
       "56633           1  \n",
       "81907           1  \n",
       "7463            1  \n",
       "55907           1  \n",
       "54568           1  "
      ]
     },
     "execution_count": 25,
     "metadata": {},
     "output_type": "execute_result"
    }
   ],
   "source": [
    "df_balanced.head()"
   ]
  }
 ],
 "metadata": {
  "kernelspec": {
   "display_name": ".venv",
   "language": "python",
   "name": "python3"
  },
  "language_info": {
   "codemirror_mode": {
    "name": "ipython",
    "version": 3
   },
   "file_extension": ".py",
   "mimetype": "text/x-python",
   "name": "python",
   "nbconvert_exporter": "python",
   "pygments_lexer": "ipython3",
   "version": "3.12.4"
  }
 },
 "nbformat": 4,
 "nbformat_minor": 2
}
