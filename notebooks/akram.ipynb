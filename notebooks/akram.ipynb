{
 "cells": [
  {
   "cell_type": "code",
   "execution_count": 1,
   "id": "5bb3a1cb",
   "metadata": {},
   "outputs": [],
   "source": [
    "# === Simulation d’un dataset santé simplifié \n",
    "import pandas as pd\n",
    "import numpy as np\n",
    "from sklearn.linear_model import LogisticRegression\n",
    "from sklearn.metrics import classification_report\n",
    "\n",
    "np.random.seed(42)\n",
    "n = 1000\n",
    "\n",
    "# Variables explicatives\n",
    "age = np.random.randint(30, 65, size=n)\n",
    "gender = np.random.choice([0, 1], size=n)  # 0 = femme, 1 = homme\n",
    "smoker = np.random.choice([0, 1], size=n, p=[0.9, 0.1])  # déséquilibré\n",
    "alcohol = np.random.choice([0, 1], size=n, p=[0.92, 0.08])  # déséquilibré\n",
    "\n",
    "# Variable cible équilibrée\n",
    "cardio_risk = np.random.choice([0, 1], size=n, p=[0.5, 0.5])\n",
    "\n",
    "# Dataset initial équilibré\n",
    "df = pd.DataFrame({\n",
    "    'age': age,\n",
    "    'gender': gender,\n",
    "    'smoker': smoker,\n",
    "    'alcohol': alcohol,\n",
    "    'cardio_risk': cardio_risk\n",
    "})"
   ]
  },
  {
   "cell_type": "code",
   "execution_count": 2,
   "id": "350a0f96",
   "metadata": {},
   "outputs": [
    {
     "name": "stdout",
     "output_type": "stream",
     "text": [
      "=== Coefficients (pas de pénalisation, cible équilibrée) ===\n",
      "{'age': np.float64(-0.0032711489641516402), 'gender': np.float64(-0.05790551419579475), 'smoker': np.float64(-0.04201396439298932), 'alcohol': np.float64(-0.00989888762265239), 'risk_behavior': np.float64(-0.05191285201564878)}\n"
     ]
    }
   ],
   "source": [
    "# === FEATURE ENGINEERING : on crée une nouvelle variable combinée ===\n",
    "df['risk_behavior'] = df['smoker'] + df['alcohol']\n",
    "\n",
    "# === Cas 1 : variable cible ÉQUILIBRÉE ===\n",
    "X_eq = df[['age', 'gender', 'smoker', 'alcohol', 'risk_behavior']]\n",
    "y_eq = df['cardio_risk']\n",
    "\n",
    "# Régression sans pénalisation\n",
    "model_none = LogisticRegression(max_iter=1000)\n",
    "model_none.fit(X_eq, y_eq)\n",
    "print(\"=== Coefficients (pas de pénalisation, cible équilibrée) ===\")\n",
    "print(dict(zip(X_eq.columns, model_none.coef_[0])))\n"
   ]
  },
  {
   "cell_type": "code",
   "execution_count": null,
   "id": "17efc900",
   "metadata": {},
   "outputs": [
    {
     "name": "stdout",
     "output_type": "stream",
     "text": [
      "=== Coefficients (L2 - Ridge) ===\n",
      "{'age': np.float64(-0.0032711489641516402), 'gender': np.float64(-0.05790551419579475), 'smoker': np.float64(-0.04201396439298932), 'alcohol': np.float64(-0.00989888762265239), 'risk_behavior': np.float64(-0.05191285201564878)}\n"
     ]
    }
   ],
   "source": [
    "\n",
    "# Régression avec pénalisation L2 RIDGE\n",
    "model_l2 = LogisticRegression(penalty='l2', C=1.0, max_iter=1000)\n",
    "model_l2.fit(X_eq, y_eq)\n",
    "print(\"=== Coefficients (L2 - Ridge) ===\")\n",
    "print(dict(zip(X_eq.columns, model_l2.coef_[0])))"
   ]
  },
  {
   "cell_type": "code",
   "execution_count": null,
   "id": "78f15f6a",
   "metadata": {},
   "outputs": [
    {
     "name": "stdout",
     "output_type": "stream",
     "text": [
      "=== Coefficients (L1 - Lasso) ===\n",
      "{'age': np.float64(-0.0014396361973545858), 'gender': np.float64(-0.033703346582114914), 'smoker': np.float64(0.0), 'alcohol': np.float64(0.0), 'risk_behavior': np.float64(-0.049116945776722404)}\n"
     ]
    }
   ],
   "source": [
    "\n",
    "# Régression avec pénalisation - L1 LASSO\n",
    "model_l1 = LogisticRegression(penalty='l1', solver='liblinear', C=1.0, max_iter=1000)\n",
    "model_l1.fit(X_eq, y_eq)\n",
    "print(\"=== Coefficients (L1 - Lasso) ===\")\n",
    "print(dict(zip(X_eq.columns, model_l1.coef_[0])))"
   ]
  },
  {
   "cell_type": "code",
   "execution_count": 5,
   "id": "27b3fba3",
   "metadata": {},
   "outputs": [
    {
     "name": "stdout",
     "output_type": "stream",
     "text": [
      "=== Déséquilibré, sans class_weight ===\n",
      "{'age': np.float64(-0.011238955577746975), 'gender': np.float64(0.021319132801369444), 'smoker': np.float64(0.20246917605166942), 'alcohol': np.float64(-0.35676354476154065), 'risk_behavior': np.float64(-0.15429436870983232)}\n",
      "              precision    recall  f1-score   support\n",
      "\n",
      "           0       0.90      1.00      0.95       461\n",
      "           1       0.00      0.00      0.00        49\n",
      "\n",
      "    accuracy                           0.90       510\n",
      "   macro avg       0.45      0.50      0.47       510\n",
      "weighted avg       0.82      0.90      0.86       510\n",
      "\n",
      "=== Déséquilibré, avec class_weight='balanced' ===\n",
      "{'age': np.float64(-0.010997601319743802), 'gender': np.float64(0.034192448143937314), 'smoker': np.float64(0.24333444308963734), 'alcohol': np.float64(-0.4406575716883497), 'risk_behavior': np.float64(-0.19732312859872583)}\n",
      "              precision    recall  f1-score   support\n",
      "\n",
      "           0       0.90      0.47      0.62       461\n",
      "           1       0.10      0.53      0.16        49\n",
      "\n",
      "    accuracy                           0.48       510\n",
      "   macro avg       0.50      0.50      0.39       510\n",
      "weighted avg       0.83      0.48      0.58       510\n",
      "\n"
     ]
    },
    {
     "name": "stderr",
     "output_type": "stream",
     "text": [
      "c:\\Users\\coule\\Documents\\projets\\cardio-vasc-risks\\.venv\\Lib\\site-packages\\sklearn\\metrics\\_classification.py:1565: UndefinedMetricWarning: Precision is ill-defined and being set to 0.0 in labels with no predicted samples. Use `zero_division` parameter to control this behavior.\n",
      "  _warn_prf(average, modifier, f\"{metric.capitalize()} is\", len(result))\n",
      "c:\\Users\\coule\\Documents\\projets\\cardio-vasc-risks\\.venv\\Lib\\site-packages\\sklearn\\metrics\\_classification.py:1565: UndefinedMetricWarning: Precision is ill-defined and being set to 0.0 in labels with no predicted samples. Use `zero_division` parameter to control this behavior.\n",
      "  _warn_prf(average, modifier, f\"{metric.capitalize()} is\", len(result))\n",
      "c:\\Users\\coule\\Documents\\projets\\cardio-vasc-risks\\.venv\\Lib\\site-packages\\sklearn\\metrics\\_classification.py:1565: UndefinedMetricWarning: Precision is ill-defined and being set to 0.0 in labels with no predicted samples. Use `zero_division` parameter to control this behavior.\n",
      "  _warn_prf(average, modifier, f\"{metric.capitalize()} is\", len(result))\n"
     ]
    }
   ],
   "source": [
    "\n",
    "# QUESTION : Que fait L1 ici ?\n",
    "\n",
    "\n",
    "# RÉPONSE :\n",
    "# La pénalisation L1 pousse certains coefficients vers zéro → sélection automatique de variables pertinentes.\n",
    "# Utile quand on a trop de variables ou du bruit dans les données.\n",
    "\n",
    "\n",
    "\n",
    "\n",
    "# === Cas 2 : variable cible DÉSÉQUILIBRÉE (90% non à risque) ===\n",
    "# Simulation d’un déséquilibre\n",
    "df_imb = pd.concat([\n",
    "    df[df['cardio_risk'] == 0].sample(frac=0.9, random_state=1),\n",
    "    df[df['cardio_risk'] == 1].sample(frac=0.1, random_state=1)\n",
    "])\n",
    "\n",
    "X_imb = df_imb[['age', 'gender', 'smoker', 'alcohol', 'risk_behavior']]\n",
    "y_imb = df_imb['cardio_risk']\n",
    "\n",
    "# Régression sans class_weight → biaisé par la classe majoritaire\n",
    "model_imb_naive = LogisticRegression(max_iter=1000)\n",
    "model_imb_naive.fit(X_imb, y_imb)\n",
    "print(\"=== Déséquilibré, sans class_weight ===\")\n",
    "print(dict(zip(X_imb.columns, model_imb_naive.coef_[0])))\n",
    "print(classification_report(y_imb, model_imb_naive.predict(X_imb)))\n",
    "\n",
    "# Régression avec class_weight='balanced' → corrige le déséquilibre\n",
    "model_balanced = LogisticRegression(class_weight='balanced', max_iter=1000)\n",
    "model_balanced.fit(X_imb, y_imb)\n",
    "print(\"=== Déséquilibré, avec class_weight='balanced' ===\")\n",
    "print(dict(zip(X_imb.columns, model_balanced.coef_[0])))\n",
    "print(classification_report(y_imb, model_balanced.predict(X_imb)))\n",
    "\n",
    "# QUESTION : Pourquoi le modèle naïf est-il mauvais ?\n",
    "# RÉPONSE :\n",
    "# Il apprend surtout à prédire la classe majoritaire (0).\n",
    "# Il a une précision globale élevée, mais ignore la minorité (1).\n",
    "\n",
    "# QUESTION : Que fait class_weight='balanced' ?\n",
    "# RÉPONSE :\n",
    "# Il donne plus de poids aux erreurs sur la classe minoritaire pour forcer l’algorithme à en tenir compte.\n",
    "# Cela permet de mieux détecter les cas de risque malgré leur rareté.\n",
    "\n",
    "# QUESTION : Est-ce utile d’utiliser L1 ou L2 en plus ?\n",
    "# RÉPONSE :\n",
    "# Oui, on peut combiner penalty='l1' ou 'l2' avec class_weight='balanced' pour faire à la fois :\n",
    "# - pondération des classes\n",
    "# - sélection ou régularisation des variables\n",
    "\n",
    "# === Conclusion pour les apprenants ===\n",
    "# - Toujours inspecter l’équilibre des classes cible.\n",
    "# - Faire du feature engineering métier (ex : risk_behavior) améliore les performances.\n",
    "# - Adapter le modèle (class_weight, pénalisation) selon la distribution des données."
   ]
  },
  {
   "cell_type": "code",
   "execution_count": null,
   "id": "719a3eec",
   "metadata": {},
   "outputs": [],
   "source": []
  }
 ],
 "metadata": {
  "kernelspec": {
   "display_name": ".venv",
   "language": "python",
   "name": "python3"
  },
  "language_info": {
   "codemirror_mode": {
    "name": "ipython",
    "version": 3
   },
   "file_extension": ".py",
   "mimetype": "text/x-python",
   "name": "python",
   "nbconvert_exporter": "python",
   "pygments_lexer": "ipython3",
   "version": "3.12.4"
  }
 },
 "nbformat": 4,
 "nbformat_minor": 5
}
